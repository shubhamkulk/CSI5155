{
 "cells": [
  {
   "cell_type": "markdown",
   "id": "79f06b56",
   "metadata": {},
   "source": [
    "# Assignment 2"
   ]
  },
  {
   "cell_type": "code",
   "execution_count": 1,
   "id": "54db6db8",
   "metadata": {},
   "outputs": [],
   "source": [
    "#import all necessary libraries\n",
    "from collections import Counter\n",
    "import matplotlib.pyplot as plt\n",
    "%matplotlib inline\n",
    "import numpy as np\n",
    "import pandas as pd\n",
    "\n",
    "from sklearn import metrics\n",
    "from sklearn import tree\n",
    "from sklearn.ensemble import RandomForestClassifier\n",
    "from sklearn.model_selection import train_test_split, GridSearchCV, KFold, StratifiedKFold\n",
    "from sklearn.neighbors import KNeighborsClassifier\n",
    "from sklearn.preprocessing import LabelEncoder\n",
    "from sklearn.svm import SVC\n",
    "from sklearn.tree import DecisionTreeClassifier\n",
    "from sklearn.feature_selection import SelectKBest, f_classif\n",
    "from imblearn.over_sampling import SMOTE\n",
    "\n",
    "import collections\n",
    "from imblearn.under_sampling import TomekLinks\n",
    "from numpy import mean\n",
    "from sklearn.datasets import make_classification\n",
    "\n",
    "from sklearn.metrics import accuracy_score\n",
    "from sklearn.neural_network import MLPClassifier\n",
    "from sklearn.model_selection import GridSearchCV\n",
    "from sklearn.ensemble import GradientBoostingClassifier\n",
    "from IPython.display import clear_output\n",
    "from scipy.stats import friedmanchisquare\n",
    "import warnings\n",
    "warnings.filterwarnings('ignore')"
   ]
  },
  {
   "cell_type": "markdown",
   "id": "92e9dec8",
   "metadata": {},
   "source": [
    "# Dataset D"
   ]
  },
  {
   "cell_type": "markdown",
   "id": "3291f535",
   "metadata": {},
   "source": [
    "Referring to Assignment 1, I plan to use Dataset for **Cannabis** as it is a balanced dataset and has the highest accuracy (Random Forest - **82.18%**).\n",
    "\n",
    "P.S. In Assignment 1 ML models for Alcohol have given the highest accuracy for me but since the dataset is imbalanced I have decided not to use it"
   ]
  },
  {
   "cell_type": "code",
   "execution_count": 2,
   "id": "877e8587",
   "metadata": {},
   "outputs": [],
   "source": [
    "#set column names, drug names and feature names in a list (to be referenced ahead)\n",
    "column_names = ['ID', 'Age', 'Gender', 'Education', 'Country', 'Ethnicity', 'Neuroticism', 'Extraversion', 'Openness', 'Agreeableness', 'Conscientiousness', 'Impulsiveness', 'Sensation_seeking', 'Alcohol', 'Amphetamine', 'Amyl_nitrite', 'Benzodiazepine', 'Caffeine', 'Cannabis', 'Chocolate', 'Cocaine', 'Crack', 'Ecstasy', 'Heroin', 'Ketamine', 'Legal_highs', 'LSD', 'Methadone', 'Mushrooms', 'Nicotine', 'Semeron', 'VSA']\n",
    "dependent_features = ['Age', 'Gender', 'Education', 'Country', 'Ethnicity', 'Neuroticism', 'Extraversion', 'Openness', 'Agreeableness', 'Conscientiousness', 'Impulsiveness', 'Sensation_seeking']\n",
    "drug_names = ['Alcohol', 'Amphetamine', 'Amyl_nitrite', 'Benzodiazepine', 'Caffeine', 'Cannabis', 'Chocolate', 'Cocaine', 'Crack', 'Ecstasy', 'Heroin', 'Ketamine', 'Legal_highs', 'LSD', 'Methadone', 'Mushrooms', 'Nicotine', 'Semeron', 'VSA']"
   ]
  },
  {
   "cell_type": "code",
   "execution_count": 3,
   "id": "e41ae9ba",
   "metadata": {},
   "outputs": [
    {
     "data": {
      "text/html": [
       "<div>\n",
       "<style scoped>\n",
       "    .dataframe tbody tr th:only-of-type {\n",
       "        vertical-align: middle;\n",
       "    }\n",
       "\n",
       "    .dataframe tbody tr th {\n",
       "        vertical-align: top;\n",
       "    }\n",
       "\n",
       "    .dataframe thead th {\n",
       "        text-align: right;\n",
       "    }\n",
       "</style>\n",
       "<table border=\"1\" class=\"dataframe\">\n",
       "  <thead>\n",
       "    <tr style=\"text-align: right;\">\n",
       "      <th></th>\n",
       "      <th>Age</th>\n",
       "      <th>Gender</th>\n",
       "      <th>Education</th>\n",
       "      <th>Country</th>\n",
       "      <th>Ethnicity</th>\n",
       "      <th>Neuroticism</th>\n",
       "      <th>Extraversion</th>\n",
       "      <th>Openness</th>\n",
       "      <th>Agreeableness</th>\n",
       "      <th>Conscientiousness</th>\n",
       "      <th>...</th>\n",
       "      <th>Ecstasy</th>\n",
       "      <th>Heroin</th>\n",
       "      <th>Ketamine</th>\n",
       "      <th>Legal_highs</th>\n",
       "      <th>LSD</th>\n",
       "      <th>Methadone</th>\n",
       "      <th>Mushrooms</th>\n",
       "      <th>Nicotine</th>\n",
       "      <th>Semeron</th>\n",
       "      <th>VSA</th>\n",
       "    </tr>\n",
       "    <tr>\n",
       "      <th>ID</th>\n",
       "      <th></th>\n",
       "      <th></th>\n",
       "      <th></th>\n",
       "      <th></th>\n",
       "      <th></th>\n",
       "      <th></th>\n",
       "      <th></th>\n",
       "      <th></th>\n",
       "      <th></th>\n",
       "      <th></th>\n",
       "      <th></th>\n",
       "      <th></th>\n",
       "      <th></th>\n",
       "      <th></th>\n",
       "      <th></th>\n",
       "      <th></th>\n",
       "      <th></th>\n",
       "      <th></th>\n",
       "      <th></th>\n",
       "      <th></th>\n",
       "      <th></th>\n",
       "    </tr>\n",
       "  </thead>\n",
       "  <tbody>\n",
       "    <tr>\n",
       "      <th>1</th>\n",
       "      <td>0.49788</td>\n",
       "      <td>0.48246</td>\n",
       "      <td>-0.05921</td>\n",
       "      <td>0.96082</td>\n",
       "      <td>0.12600</td>\n",
       "      <td>0.31287</td>\n",
       "      <td>-0.57545</td>\n",
       "      <td>-0.58331</td>\n",
       "      <td>-0.91699</td>\n",
       "      <td>-0.00665</td>\n",
       "      <td>...</td>\n",
       "      <td>CL0</td>\n",
       "      <td>CL0</td>\n",
       "      <td>CL0</td>\n",
       "      <td>CL0</td>\n",
       "      <td>CL0</td>\n",
       "      <td>CL0</td>\n",
       "      <td>CL0</td>\n",
       "      <td>CL2</td>\n",
       "      <td>CL0</td>\n",
       "      <td>CL0</td>\n",
       "    </tr>\n",
       "    <tr>\n",
       "      <th>2</th>\n",
       "      <td>-0.07854</td>\n",
       "      <td>-0.48246</td>\n",
       "      <td>1.98437</td>\n",
       "      <td>0.96082</td>\n",
       "      <td>-0.31685</td>\n",
       "      <td>-0.67825</td>\n",
       "      <td>1.93886</td>\n",
       "      <td>1.43533</td>\n",
       "      <td>0.76096</td>\n",
       "      <td>-0.14277</td>\n",
       "      <td>...</td>\n",
       "      <td>CL4</td>\n",
       "      <td>CL0</td>\n",
       "      <td>CL2</td>\n",
       "      <td>CL0</td>\n",
       "      <td>CL2</td>\n",
       "      <td>CL3</td>\n",
       "      <td>CL0</td>\n",
       "      <td>CL4</td>\n",
       "      <td>CL0</td>\n",
       "      <td>CL0</td>\n",
       "    </tr>\n",
       "    <tr>\n",
       "      <th>3</th>\n",
       "      <td>0.49788</td>\n",
       "      <td>-0.48246</td>\n",
       "      <td>-0.05921</td>\n",
       "      <td>0.96082</td>\n",
       "      <td>-0.31685</td>\n",
       "      <td>-0.46725</td>\n",
       "      <td>0.80523</td>\n",
       "      <td>-0.84732</td>\n",
       "      <td>-1.62090</td>\n",
       "      <td>-1.01450</td>\n",
       "      <td>...</td>\n",
       "      <td>CL0</td>\n",
       "      <td>CL0</td>\n",
       "      <td>CL0</td>\n",
       "      <td>CL0</td>\n",
       "      <td>CL0</td>\n",
       "      <td>CL0</td>\n",
       "      <td>CL1</td>\n",
       "      <td>CL0</td>\n",
       "      <td>CL0</td>\n",
       "      <td>CL0</td>\n",
       "    </tr>\n",
       "    <tr>\n",
       "      <th>4</th>\n",
       "      <td>-0.95197</td>\n",
       "      <td>0.48246</td>\n",
       "      <td>1.16365</td>\n",
       "      <td>0.96082</td>\n",
       "      <td>-0.31685</td>\n",
       "      <td>-0.14882</td>\n",
       "      <td>-0.80615</td>\n",
       "      <td>-0.01928</td>\n",
       "      <td>0.59042</td>\n",
       "      <td>0.58489</td>\n",
       "      <td>...</td>\n",
       "      <td>CL0</td>\n",
       "      <td>CL0</td>\n",
       "      <td>CL2</td>\n",
       "      <td>CL0</td>\n",
       "      <td>CL0</td>\n",
       "      <td>CL0</td>\n",
       "      <td>CL0</td>\n",
       "      <td>CL2</td>\n",
       "      <td>CL0</td>\n",
       "      <td>CL0</td>\n",
       "    </tr>\n",
       "    <tr>\n",
       "      <th>5</th>\n",
       "      <td>0.49788</td>\n",
       "      <td>0.48246</td>\n",
       "      <td>1.98437</td>\n",
       "      <td>0.96082</td>\n",
       "      <td>-0.31685</td>\n",
       "      <td>0.73545</td>\n",
       "      <td>-1.63340</td>\n",
       "      <td>-0.45174</td>\n",
       "      <td>-0.30172</td>\n",
       "      <td>1.30612</td>\n",
       "      <td>...</td>\n",
       "      <td>CL1</td>\n",
       "      <td>CL0</td>\n",
       "      <td>CL0</td>\n",
       "      <td>CL1</td>\n",
       "      <td>CL0</td>\n",
       "      <td>CL0</td>\n",
       "      <td>CL2</td>\n",
       "      <td>CL2</td>\n",
       "      <td>CL0</td>\n",
       "      <td>CL0</td>\n",
       "    </tr>\n",
       "  </tbody>\n",
       "</table>\n",
       "<p>5 rows × 31 columns</p>\n",
       "</div>"
      ],
      "text/plain": [
       "        Age   Gender  Education  Country  Ethnicity  Neuroticism  \\\n",
       "ID                                                                 \n",
       "1   0.49788  0.48246   -0.05921  0.96082    0.12600      0.31287   \n",
       "2  -0.07854 -0.48246    1.98437  0.96082   -0.31685     -0.67825   \n",
       "3   0.49788 -0.48246   -0.05921  0.96082   -0.31685     -0.46725   \n",
       "4  -0.95197  0.48246    1.16365  0.96082   -0.31685     -0.14882   \n",
       "5   0.49788  0.48246    1.98437  0.96082   -0.31685      0.73545   \n",
       "\n",
       "    Extraversion  Openness  Agreeableness  Conscientiousness  ...  Ecstasy  \\\n",
       "ID                                                            ...            \n",
       "1       -0.57545  -0.58331       -0.91699           -0.00665  ...      CL0   \n",
       "2        1.93886   1.43533        0.76096           -0.14277  ...      CL4   \n",
       "3        0.80523  -0.84732       -1.62090           -1.01450  ...      CL0   \n",
       "4       -0.80615  -0.01928        0.59042            0.58489  ...      CL0   \n",
       "5       -1.63340  -0.45174       -0.30172            1.30612  ...      CL1   \n",
       "\n",
       "    Heroin Ketamine Legal_highs  LSD Methadone Mushrooms Nicotine Semeron  VSA  \n",
       "ID                                                                              \n",
       "1      CL0      CL0         CL0  CL0       CL0       CL0      CL2     CL0  CL0  \n",
       "2      CL0      CL2         CL0  CL2       CL3       CL0      CL4     CL0  CL0  \n",
       "3      CL0      CL0         CL0  CL0       CL0       CL1      CL0     CL0  CL0  \n",
       "4      CL0      CL2         CL0  CL0       CL0       CL0      CL2     CL0  CL0  \n",
       "5      CL0      CL0         CL1  CL0       CL0       CL2      CL2     CL0  CL0  \n",
       "\n",
       "[5 rows x 31 columns]"
      ]
     },
     "execution_count": 3,
     "metadata": {},
     "output_type": "execute_result"
    }
   ],
   "source": [
    "#Loading the Dataset\n",
    "drug_data = pd.read_csv('data/drug_consumption.data', header = None, names = column_names)\n",
    "#Using ID Column as index as it does not have any relation with the features\n",
    "drug_data.set_index('ID', inplace = True)\n",
    "drug_data.head()"
   ]
  },
  {
   "cell_type": "code",
   "execution_count": 4,
   "id": "c14c75e5",
   "metadata": {},
   "outputs": [],
   "source": [
    "#Categorizing Participants as users and non-users on the basis of their Drug usage\n",
    "#Assumptions: \n",
    "#1 - A person is a drug user if they used a drug in last decade, year, month, week or day\n",
    "\n",
    "#0 - A person is a non-drug user if they never used a drug or used over a decade ago\n",
    "\n",
    "def change(category):\n",
    "    if ((category == 'CL6') or (category == 'CL5') or (category == 'CL4') or (category == 'CL2') or (category == 'CL3')):\n",
    "        category = 1\n",
    "    elif ((category == 'CL0') or (category == 'CL1')):\n",
    "        category = 0\n",
    "    return category"
   ]
  },
  {
   "cell_type": "code",
   "execution_count": 5,
   "id": "ac94bbb1",
   "metadata": {},
   "outputs": [],
   "source": [
    "# Updating the dataset to categorize users and non-users of drugs\n",
    "\n",
    "for column in drug_names:\n",
    "    drug_data[column] = drug_data[column].map(change)"
   ]
  },
  {
   "cell_type": "code",
   "execution_count": 6,
   "id": "7065aa89",
   "metadata": {},
   "outputs": [
    {
     "data": {
      "text/plain": [
       "1885"
      ]
     },
     "execution_count": 6,
     "metadata": {},
     "output_type": "execute_result"
    }
   ],
   "source": [
    "#Creating a new DataFrame of just independent variables (to be used for building models) \n",
    "feature_dataset = drug_data[dependent_features]\n",
    "len(feature_dataset.index)"
   ]
  },
  {
   "cell_type": "markdown",
   "id": "6e85e51f",
   "metadata": {},
   "source": [
    "## Dependent Feature Scaling - Implemented Standard Scaler"
   ]
  },
  {
   "cell_type": "code",
   "execution_count": 7,
   "id": "43343193",
   "metadata": {},
   "outputs": [
    {
     "data": {
      "text/html": [
       "<div>\n",
       "<style scoped>\n",
       "    .dataframe tbody tr th:only-of-type {\n",
       "        vertical-align: middle;\n",
       "    }\n",
       "\n",
       "    .dataframe tbody tr th {\n",
       "        vertical-align: top;\n",
       "    }\n",
       "\n",
       "    .dataframe thead th {\n",
       "        text-align: right;\n",
       "    }\n",
       "</style>\n",
       "<table border=\"1\" class=\"dataframe\">\n",
       "  <thead>\n",
       "    <tr style=\"text-align: right;\">\n",
       "      <th></th>\n",
       "      <th>Age</th>\n",
       "      <th>Gender</th>\n",
       "      <th>Education</th>\n",
       "      <th>Country</th>\n",
       "      <th>Ethnicity</th>\n",
       "      <th>Neuroticism</th>\n",
       "      <th>Extraversion</th>\n",
       "      <th>Openness</th>\n",
       "      <th>Agreeableness</th>\n",
       "      <th>Conscientiousness</th>\n",
       "      <th>Impulsiveness</th>\n",
       "      <th>Sensation_seeking</th>\n",
       "    </tr>\n",
       "  </thead>\n",
       "  <tbody>\n",
       "    <tr>\n",
       "      <th>0</th>\n",
       "      <td>0.527566</td>\n",
       "      <td>1.000531</td>\n",
       "      <td>-0.058331</td>\n",
       "      <td>0.864498</td>\n",
       "      <td>2.621090</td>\n",
       "      <td>0.313500</td>\n",
       "      <td>-0.576912</td>\n",
       "      <td>-0.585137</td>\n",
       "      <td>-0.919341</td>\n",
       "      <td>-0.006281</td>\n",
       "      <td>-0.235108</td>\n",
       "      <td>-1.222226</td>\n",
       "    </tr>\n",
       "    <tr>\n",
       "      <th>1</th>\n",
       "      <td>-0.128854</td>\n",
       "      <td>-0.999470</td>\n",
       "      <td>2.093200</td>\n",
       "      <td>0.864498</td>\n",
       "      <td>-0.043764</td>\n",
       "      <td>-0.679764</td>\n",
       "      <td>1.944499</td>\n",
       "      <td>1.441683</td>\n",
       "      <td>0.763361</td>\n",
       "      <td>-0.142775</td>\n",
       "      <td>-0.752976</td>\n",
       "      <td>-0.220519</td>\n",
       "    </tr>\n",
       "    <tr>\n",
       "      <th>2</th>\n",
       "      <td>0.527566</td>\n",
       "      <td>-0.999470</td>\n",
       "      <td>-0.058331</td>\n",
       "      <td>0.864498</td>\n",
       "      <td>-0.043764</td>\n",
       "      <td>-0.468308</td>\n",
       "      <td>0.807667</td>\n",
       "      <td>-0.850217</td>\n",
       "      <td>-1.625245</td>\n",
       "      <td>-1.016902</td>\n",
       "      <td>-1.453650</td>\n",
       "      <td>0.420129</td>\n",
       "    </tr>\n",
       "    <tr>\n",
       "      <th>3</th>\n",
       "      <td>-1.123504</td>\n",
       "      <td>1.000531</td>\n",
       "      <td>1.229126</td>\n",
       "      <td>0.864498</td>\n",
       "      <td>-0.043764</td>\n",
       "      <td>-0.149189</td>\n",
       "      <td>-0.808263</td>\n",
       "      <td>-0.018822</td>\n",
       "      <td>0.592338</td>\n",
       "      <td>0.586885</td>\n",
       "      <td>-1.453650</td>\n",
       "      <td>-1.222226</td>\n",
       "    </tr>\n",
       "    <tr>\n",
       "      <th>4</th>\n",
       "      <td>0.527566</td>\n",
       "      <td>1.000531</td>\n",
       "      <td>2.093200</td>\n",
       "      <td>0.864498</td>\n",
       "      <td>-0.043764</td>\n",
       "      <td>0.736994</td>\n",
       "      <td>-1.637850</td>\n",
       "      <td>-0.453034</td>\n",
       "      <td>-0.302329</td>\n",
       "      <td>1.310098</td>\n",
       "      <td>-0.235108</td>\n",
       "      <td>-0.220519</td>\n",
       "    </tr>\n",
       "  </tbody>\n",
       "</table>\n",
       "</div>"
      ],
      "text/plain": [
       "        Age    Gender  Education   Country  Ethnicity  Neuroticism  \\\n",
       "0  0.527566  1.000531  -0.058331  0.864498   2.621090     0.313500   \n",
       "1 -0.128854 -0.999470   2.093200  0.864498  -0.043764    -0.679764   \n",
       "2  0.527566 -0.999470  -0.058331  0.864498  -0.043764    -0.468308   \n",
       "3 -1.123504  1.000531   1.229126  0.864498  -0.043764    -0.149189   \n",
       "4  0.527566  1.000531   2.093200  0.864498  -0.043764     0.736994   \n",
       "\n",
       "   Extraversion  Openness  Agreeableness  Conscientiousness  Impulsiveness  \\\n",
       "0     -0.576912 -0.585137      -0.919341          -0.006281      -0.235108   \n",
       "1      1.944499  1.441683       0.763361          -0.142775      -0.752976   \n",
       "2      0.807667 -0.850217      -1.625245          -1.016902      -1.453650   \n",
       "3     -0.808263 -0.018822       0.592338           0.586885      -1.453650   \n",
       "4     -1.637850 -0.453034      -0.302329           1.310098      -0.235108   \n",
       "\n",
       "   Sensation_seeking  \n",
       "0          -1.222226  \n",
       "1          -0.220519  \n",
       "2           0.420129  \n",
       "3          -1.222226  \n",
       "4          -0.220519  "
      ]
     },
     "execution_count": 7,
     "metadata": {},
     "output_type": "execute_result"
    }
   ],
   "source": [
    "from sklearn.preprocessing import StandardScaler\n",
    "\n",
    "scaler = StandardScaler()\n",
    "scaled_feature_dataset = scaler.fit_transform(feature_dataset)\n",
    "scaled_feature_dataset = pd.DataFrame(scaled_feature_dataset, columns = ['Age', 'Gender', 'Education', 'Country', 'Ethnicity', 'Neuroticism', 'Extraversion', 'Openness', 'Agreeableness', 'Conscientiousness', 'Impulsiveness', 'Sensation_seeking'])\n",
    "scaled_feature_dataset.head()"
   ]
  },
  {
   "cell_type": "markdown",
   "id": "531dac86",
   "metadata": {},
   "source": [
    "## Feature Selection for Cannabis- ANOVA F-Test"
   ]
  },
  {
   "cell_type": "code",
   "execution_count": 8,
   "id": "b372464a",
   "metadata": {},
   "outputs": [
    {
     "name": "stdout",
     "output_type": "stream",
     "text": [
      "Feature Age: 270.136487\n",
      "Feature Gender: 81.114769\n",
      "Feature Education: 43.061725\n",
      "Feature Country: 328.534896\n",
      "Feature Ethnicity: 18.036250\n",
      "Feature Neuroticism: 26.048962\n",
      "Feature Extraversion: 2.013876\n",
      "Feature Openness: 181.566792\n",
      "Feature Agreeableness: 27.140010\n",
      "Feature Conscientiousness: 125.051056\n",
      "Feature Impulsiveness: 118.519149\n",
      "Feature Sensation_seeking: 251.085937\n"
     ]
    },
    {
     "data": {
      "image/png": "[encoded data removed]",
      "text/plain": [
       "<Figure size 432x288 with 1 Axes>"
      ]
     },
     "metadata": {
      "needs_background": "light"
     },
     "output_type": "display_data"
    }
   ],
   "source": [
    "#Load Data in X and Y Dataframes\n",
    "X_cannabis = scaled_feature_dataset\n",
    "Y_cannabis = drug_data[[\"Cannabis\"]]\n",
    "\n",
    "#Perform Train-Test Split\n",
    "X_cannabis_train, X_cannabis_test, y_cannabis_train, y_cannabis_test = train_test_split(X_cannabis , Y_cannabis, test_size = 0.33, random_state = 42)\n",
    "\n",
    "# configuration for selecting all features\n",
    "feature_selection_cannabis = SelectKBest(score_func=f_classif, k=6)\n",
    "feature_selection_cannabis.fit(X_cannabis_train, y_cannabis_train.values.ravel())\n",
    "X_cannabis_train_fs = feature_selection_cannabis.transform(X_cannabis_train)\n",
    "X_cannabis_test_fs = feature_selection_cannabis.transform(X_cannabis_test)\n",
    "\n",
    "for i in range(len(feature_selection_cannabis.scores_)):\n",
    "    print('Feature %s: %f' % (dependent_features[i], feature_selection_cannabis.scores_[i]))\n",
    "# plot the scores\n",
    "plt.bar([i+1 for i in range(len(feature_selection_cannabis.scores_))], feature_selection_cannabis.scores_)\n",
    "plt.show()"
   ]
  },
  {
   "cell_type": "raw",
   "id": "4be75522",
   "metadata": {},
   "source": [
    "'''\n",
    "From this Implementation we can conclude that \n",
    "Most Relevant Features are:\n",
    "    Feature 1 - Age\n",
    "    Feature 2 - Gender\n",
    "    Feature 4 - Country\n",
    "    Feature 8 - Openness\n",
    "    Feature 10 - Conscientiousness\n",
    "    Feature 11 - Impulsiveness\n",
    "    Feature 12 - Sensation_seeking\n",
    "Likewise, Least relevant fearures are:\n",
    "    Feature 3 - Education\n",
    "    Feature 5 - Ethnicity\n",
    "    Feature 6 - Neuroticism\n",
    "    Feature 7 - Extraversion\n",
    "    Feature 9 - Agreeableness\n",
    "'''"
   ]
  },
  {
   "cell_type": "code",
   "execution_count": 9,
   "id": "5782f668",
   "metadata": {},
   "outputs": [
    {
     "data": {
      "text/plain": [
       "Counter({0: 620, 1: 1265})"
      ]
     },
     "execution_count": 9,
     "metadata": {},
     "output_type": "execute_result"
    }
   ],
   "source": [
    "#Update the datasets after feature selection and performing train-test split\n",
    "cannabis_features = ['Age', 'Gender', 'Country', 'Openness', 'Conscientiousness', 'Impulsiveness', 'Sensation_seeking']\n",
    "X_cannabis = X_cannabis[cannabis_features]\n",
    "Y_cannabis = drug_data[[\"Cannabis\"]].values.ravel()\n",
    "collections.Counter(Y_cannabis)"
   ]
  },
  {
   "cell_type": "markdown",
   "id": "80dfb9d2",
   "metadata": {},
   "source": [
    "## Baseline Method That Sums up Everything"
   ]
  },
  {
   "cell_type": "code",
   "execution_count": 10,
   "id": "0d720db7",
   "metadata": {},
   "outputs": [],
   "source": [
    "#General MGet Accuracy Method\n",
    "#Parameters:\n",
    "#X - Input Fearure Dataframe\n",
    "#Y - Output Class\n",
    "#model_name - Algorithm Variable with set parameters\n",
    "#sampling - Indicates if oversampling/undersampling needs to be done on input feature dataset\n",
    "def get_model_accuracy(X, Y, model_name, sampling=None):\n",
    "    accuracy = []\n",
    "    #Implementing Stratified K Fold to balance the value counts of 0/1 in output variables\n",
    "    skf = StratifiedKFold(n_splits=10, random_state=42, shuffle=True)\n",
    "    skf.get_n_splits(X, Y)\n",
    "    #loop for number of splits (10 here)\n",
    "    for train_index, test_index in skf.split(X, Y):\n",
    "        X_train, X_test = X.iloc[train_index], X.iloc[test_index]\n",
    "        y_train, y_test = Y[train_index], Y[test_index]\n",
    "        \n",
    "        if sampling == \"undersampling\":\n",
    "            undersample = TomekLinks()\n",
    "            X_train, y_train = undersample.fit_resample(X_train, y_train)\n",
    "        elif sampling == \"oversampling\":\n",
    "            oversample = SMOTE()\n",
    "            X_train, y_train = oversample.fit_resample(X_train, y_train)\n",
    "        \n",
    "        model_name.fit(X_train, y_train)\n",
    "        prediction = model_name.predict(X_test)\n",
    "        score=accuracy_score(prediction, y_test)\n",
    "        accuracy.append(score)\n",
    "    result = np.round(np.array(accuracy).mean()*100,2)\n",
    "    return result"
   ]
  },
  {
   "cell_type": "markdown",
   "id": "c93fe365",
   "metadata": {},
   "source": [
    "# Dataset D - No Unsampling"
   ]
  },
  {
   "cell_type": "code",
   "execution_count": 11,
   "id": "e2bc7a7f",
   "metadata": {},
   "outputs": [
    {
     "name": "stdout",
     "output_type": "stream",
     "text": [
      "Decision Tree Accuracy on no unsampling: 79.04\n"
     ]
    }
   ],
   "source": [
    "#Decision Tree\n",
    "from sklearn.tree import DecisionTreeClassifier\n",
    "decision_tree_model = DecisionTreeClassifier(criterion=\"entropy\",max_depth = 5, random_state=42)\n",
    "dt_accuracy = get_model_accuracy(X_cannabis, Y_cannabis, decision_tree_model)\n",
    "print(\"Decision Tree Accuracy on no unsampling: \"+str(dt_accuracy))"
   ]
  },
  {
   "cell_type": "code",
   "execution_count": 12,
   "id": "e0e9c158",
   "metadata": {},
   "outputs": [
    {
     "name": "stdout",
     "output_type": "stream",
     "text": [
      "KNN Accuracy on no unsampling: 79.84\n"
     ]
    }
   ],
   "source": [
    "#K-Nearest Neighbors\n",
    "cannabis_KNN_classifier = KNeighborsClassifier(n_neighbors=13)\n",
    "knn_accuracy = get_model_accuracy(X_cannabis, Y_cannabis, cannabis_KNN_classifier)\n",
    "print(\"KNN Accuracy on no unsampling: \"+str(knn_accuracy))"
   ]
  },
  {
   "cell_type": "code",
   "execution_count": 13,
   "id": "2048959e",
   "metadata": {},
   "outputs": [
    {
     "name": "stdout",
     "output_type": "stream",
     "text": [
      "RF Accuracy on no unsampling: 79.73\n"
     ]
    }
   ],
   "source": [
    "#Random Forest\n",
    "cannabis_RF_classifier = RandomForestClassifier(n_estimators = 200, criterion = 'gini', random_state=42)\n",
    "rf_accuracy = get_model_accuracy(X_cannabis, Y_cannabis, cannabis_RF_classifier)\n",
    "print(\"RF Accuracy on no unsampling: \"+str(rf_accuracy))"
   ]
  },
  {
   "cell_type": "code",
   "execution_count": 14,
   "id": "44f861ab",
   "metadata": {},
   "outputs": [
    {
     "name": "stdout",
     "output_type": "stream",
     "text": [
      "SVM Accuracy on no unsampling: 80.96\n"
     ]
    }
   ],
   "source": [
    "#Support Vector Machine\n",
    "cannabis_SVM_classifier = SVC(kernel = 'linear', gamma='auto', C=2, random_state=42)\n",
    "svm_accuracy = get_model_accuracy(X_cannabis, Y_cannabis, cannabis_SVM_classifier)\n",
    "print(\"SVM Accuracy on no unsampling: \"+str(svm_accuracy))"
   ]
  },
  {
   "cell_type": "code",
   "execution_count": 15,
   "id": "487550e8",
   "metadata": {},
   "outputs": [
    {
     "name": "stdout",
     "output_type": "stream",
     "text": [
      "MLP Accuracy on no unsampling: 80.63\n"
     ]
    }
   ],
   "source": [
    "#Multi Layer Perceptron\n",
    "cannabis_mlp_classifier = MLPClassifier(hidden_layer_sizes=(6,5), random_state=42, verbose=True, learning_rate_init=0.01)\n",
    "mlp_accuracy = get_model_accuracy(X_cannabis, Y_cannabis, cannabis_mlp_classifier)\n",
    "clear_output(wait=True)\n",
    "print(\"MLP Accuracy on no unsampling: \"+str(mlp_accuracy))"
   ]
  },
  {
   "cell_type": "code",
   "execution_count": 16,
   "id": "1a1333ce",
   "metadata": {},
   "outputs": [
    {
     "name": "stdout",
     "output_type": "stream",
     "text": [
      "MLP Accuracy on no unsampling: 81.06\n"
     ]
    }
   ],
   "source": [
    "#Gradient Boosting Ensemble\n",
    "cannabis_gb_classifier = GradientBoostingClassifier(n_estimators=500, max_depth=3, learning_rate=0.01, subsample=0.7, random_state=42)\n",
    "gb_accuracy = get_model_accuracy(X_cannabis, Y_cannabis, cannabis_gb_classifier)\n",
    "print(\"MLP Accuracy on no unsampling: \"+str(gb_accuracy))"
   ]
  },
  {
   "cell_type": "markdown",
   "id": "f75a3280",
   "metadata": {},
   "source": [
    "# Dataset D1 - SMOTE - Over Sampling"
   ]
  },
  {
   "cell_type": "code",
   "execution_count": 17,
   "id": "e48c50a7",
   "metadata": {},
   "outputs": [
    {
     "name": "stdout",
     "output_type": "stream",
     "text": [
      "Decision Tree Accuracy on Oversampling: 76.5\n"
     ]
    }
   ],
   "source": [
    "#Decision Tree\n",
    "from sklearn.tree import DecisionTreeClassifier\n",
    "decision_tree_model_os = DecisionTreeClassifier(criterion=\"entropy\",max_depth = 5, random_state=42)\n",
    "dt_accuracy_os = get_model_accuracy(X_cannabis, Y_cannabis, decision_tree_model_os, \"oversampling\")\n",
    "print(\"Decision Tree Accuracy on Oversampling: \"+str(dt_accuracy_os))"
   ]
  },
  {
   "cell_type": "code",
   "execution_count": 18,
   "id": "67a8dd48",
   "metadata": {},
   "outputs": [
    {
     "name": "stdout",
     "output_type": "stream",
     "text": [
      "KNN Accuracy on Oversampling: 78.09\n"
     ]
    }
   ],
   "source": [
    "#K-Nearest Neighbors\n",
    "cannabis_KNN_classifier_os = KNeighborsClassifier(n_neighbors=21)\n",
    "knn_accuracy_os = get_model_accuracy(X_cannabis, Y_cannabis, cannabis_KNN_classifier_os, \"oversampling\")\n",
    "print(\"KNN Accuracy on Oversampling: \"+str(knn_accuracy_os))"
   ]
  },
  {
   "cell_type": "code",
   "execution_count": 19,
   "id": "238614e6",
   "metadata": {},
   "outputs": [
    {
     "name": "stdout",
     "output_type": "stream",
     "text": [
      "RF Accuracy on Oversampling: 79.57\n"
     ]
    }
   ],
   "source": [
    "#Random Forest\n",
    "cannabis_RF_classifier_os = RandomForestClassifier(n_estimators = 200, criterion = 'entropy', random_state=42)\n",
    "rf_accuracy_os = get_model_accuracy(X_cannabis, Y_cannabis, cannabis_RF_classifier_os, \"oversampling\")\n",
    "print(\"RF Accuracy on Oversampling: \"+str(rf_accuracy_os))"
   ]
  },
  {
   "cell_type": "code",
   "execution_count": 20,
   "id": "1b001cae",
   "metadata": {},
   "outputs": [
    {
     "name": "stdout",
     "output_type": "stream",
     "text": [
      "SVM Accuracy on Oversampling: 78.57\n"
     ]
    }
   ],
   "source": [
    "#Support Vector Machine\n",
    "cannabis_SVM_classifier_os = SVC(kernel = 'rbf', gamma='auto', C=2, random_state=42)\n",
    "svm_accuracy_os = get_model_accuracy(X_cannabis, Y_cannabis, cannabis_SVM_classifier_os, \"oversampling\")\n",
    "print(\"SVM Accuracy on Oversampling: \"+str(svm_accuracy_os))"
   ]
  },
  {
   "cell_type": "code",
   "execution_count": 21,
   "id": "df9bbb40",
   "metadata": {},
   "outputs": [
    {
     "name": "stdout",
     "output_type": "stream",
     "text": [
      "MLP Accuracy on Oversampling: 79.15\n"
     ]
    }
   ],
   "source": [
    "#Multi Layer Perceptron\n",
    "cannabis_mlp_classifier_os = MLPClassifier(hidden_layer_sizes=(6,5), random_state=42, verbose=True, learning_rate_init=0.01)\n",
    "mlp_accuracy_os = get_model_accuracy(X_cannabis, Y_cannabis, cannabis_mlp_classifier_os, \"oversampling\")\n",
    "clear_output(wait=True)\n",
    "print(\"MLP Accuracy on Oversampling: \"+str(mlp_accuracy_os))"
   ]
  },
  {
   "cell_type": "code",
   "execution_count": 22,
   "id": "431eaf48",
   "metadata": {},
   "outputs": [
    {
     "name": "stdout",
     "output_type": "stream",
     "text": [
      "MLP Accuracy on no unsampling: 81.0\n"
     ]
    }
   ],
   "source": [
    "#Gradient Boosting Ensemble\n",
    "cannabis_gb_classifier_os = GradientBoostingClassifier(n_estimators=200, max_depth=3, learning_rate=0.1, subsample=0.7)\n",
    "gb_accuracy_os = get_model_accuracy(X_cannabis, Y_cannabis, cannabis_gb_classifier_os, \"oversampling\")\n",
    "print(\"MLP Accuracy on no unsampling: \"+str(gb_accuracy_os))"
   ]
  },
  {
   "cell_type": "markdown",
   "id": "aa78d96b",
   "metadata": {},
   "source": [
    "# Dataset D2 - Tomeklinks Under Sampling"
   ]
  },
  {
   "cell_type": "code",
   "execution_count": 23,
   "id": "d1b4b489",
   "metadata": {},
   "outputs": [
    {
     "name": "stdout",
     "output_type": "stream",
     "text": [
      "Decision Tree Accuracy on Undersampling: 79.15\n"
     ]
    }
   ],
   "source": [
    "#Decision Tree\n",
    "decision_tree_model_us = DecisionTreeClassifier(criterion=\"entropy\",max_depth = 5, random_state=42)\n",
    "dt_accuracy_us = get_model_accuracy(X_cannabis, Y_cannabis, decision_tree_model_us, \"undersampling\")\n",
    "print(\"Decision Tree Accuracy on Undersampling: \"+str(dt_accuracy_us))"
   ]
  },
  {
   "cell_type": "code",
   "execution_count": 24,
   "id": "9b31cb3a",
   "metadata": {},
   "outputs": [
    {
     "name": "stdout",
     "output_type": "stream",
     "text": [
      "KNN Accuracy on Undersampling: 79.79\n"
     ]
    }
   ],
   "source": [
    "#K-Nearest Neighbors\n",
    "cannabis_KNN_classifier_us = KNeighborsClassifier(n_neighbors=19)\n",
    "knn_accuracy_us = get_model_accuracy(X_cannabis, Y_cannabis, cannabis_KNN_classifier_us, \"undersampling\")\n",
    "print(\"KNN Accuracy on Undersampling: \"+str(knn_accuracy_us))"
   ]
  },
  {
   "cell_type": "code",
   "execution_count": 25,
   "id": "6ac93d2e",
   "metadata": {},
   "outputs": [
    {
     "name": "stdout",
     "output_type": "stream",
     "text": [
      "RF Accuracy on Undersampling: 79.89\n"
     ]
    }
   ],
   "source": [
    "#Random Forest\n",
    "cannabis_RF_classifier_us = RandomForestClassifier(n_estimators = 1000, criterion = 'entropy', random_state=42)\n",
    "rf_accuracy_us = get_model_accuracy(X_cannabis, Y_cannabis, cannabis_RF_classifier_us, \"undersampling\")\n",
    "print(\"RF Accuracy on Undersampling: \"+str(rf_accuracy_us))"
   ]
  },
  {
   "cell_type": "code",
   "execution_count": 26,
   "id": "01c0ddc7",
   "metadata": {},
   "outputs": [
    {
     "name": "stdout",
     "output_type": "stream",
     "text": [
      "SVM Accuracy on Undersampling: 80.48\n"
     ]
    }
   ],
   "source": [
    "#Support Vector Machine\n",
    "cannabis_SVM_classifier_us = SVC(kernel = 'linear', gamma='auto', C=2, random_state=42)\n",
    "svm_accuracy_us = get_model_accuracy(X_cannabis, Y_cannabis, cannabis_SVM_classifier_us, \"undersampling\")\n",
    "print(\"SVM Accuracy on Undersampling: \"+str(svm_accuracy_us))"
   ]
  },
  {
   "cell_type": "code",
   "execution_count": 27,
   "id": "ba52f4d4",
   "metadata": {},
   "outputs": [
    {
     "name": "stdout",
     "output_type": "stream",
     "text": [
      "MLP Accuracy on Oversampling: 80.0\n"
     ]
    }
   ],
   "source": [
    "#Multi Layer Perceptron\n",
    "cannabis_mlp_classifier_us = MLPClassifier(hidden_layer_sizes=(6,5), random_state=42, verbose=True, learning_rate_init=0.01)\n",
    "mlp_accuracy_us = get_model_accuracy(X_cannabis, Y_cannabis, cannabis_mlp_classifier_us, \"undersampling\")\n",
    "clear_output(wait=True)\n",
    "print(\"MLP Accuracy on Oversampling: \"+str(mlp_accuracy_us))"
   ]
  },
  {
   "cell_type": "code",
   "execution_count": 28,
   "id": "e1283a14",
   "metadata": {},
   "outputs": [
    {
     "name": "stdout",
     "output_type": "stream",
     "text": [
      "GB Accuracy on no unsampling: 81.17\n"
     ]
    }
   ],
   "source": [
    "#Gradient Boosting Ensemble\n",
    "cannabis_gb_classifier_us = GradientBoostingClassifier(n_estimators=200, max_depth=3, learning_rate=0.01, subsample=0.7, random_state=42)\n",
    "gb_accuracy_us = get_model_accuracy(X_cannabis, Y_cannabis, cannabis_gb_classifier_us, \"undersampling\")\n",
    "print(\"GB Accuracy on no unsampling: \"+str(gb_accuracy_us))"
   ]
  },
  {
   "cell_type": "markdown",
   "id": "b8d75e25",
   "metadata": {},
   "source": [
    "# Labor Negotiations Dataset"
   ]
  },
  {
   "cell_type": "code",
   "execution_count": 29,
   "id": "ca3424f0",
   "metadata": {},
   "outputs": [],
   "source": [
    "labornegotiations_data = pd.read_csv(\"data/labor-negotiations.csv\", na_values = \"?\")"
   ]
  },
  {
   "cell_type": "code",
   "execution_count": 30,
   "id": "dbf5b85c",
   "metadata": {
    "scrolled": true
   },
   "outputs": [
    {
     "data": {
      "text/html": [
       "<div>\n",
       "<style scoped>\n",
       "    .dataframe tbody tr th:only-of-type {\n",
       "        vertical-align: middle;\n",
       "    }\n",
       "\n",
       "    .dataframe tbody tr th {\n",
       "        vertical-align: top;\n",
       "    }\n",
       "\n",
       "    .dataframe thead th {\n",
       "        text-align: right;\n",
       "    }\n",
       "</style>\n",
       "<table border=\"1\" class=\"dataframe\">\n",
       "  <thead>\n",
       "    <tr style=\"text-align: right;\">\n",
       "      <th></th>\n",
       "      <th>duration</th>\n",
       "      <th>wage-increase-first-year</th>\n",
       "      <th>wage-increase-second-year</th>\n",
       "      <th>wage-increase-third-year</th>\n",
       "      <th>cost-of-living-adjustment</th>\n",
       "      <th>working-hours</th>\n",
       "      <th>pension</th>\n",
       "      <th>standby-pay</th>\n",
       "      <th>shift-differential</th>\n",
       "      <th>education-allowance</th>\n",
       "      <th>statutory-holidays</th>\n",
       "      <th>vacation</th>\n",
       "      <th>longterm-disability-assistance</th>\n",
       "      <th>contribution-to-dental-plan</th>\n",
       "      <th>bereavement-assistance</th>\n",
       "      <th>contribution-to-health-plan</th>\n",
       "      <th>class</th>\n",
       "    </tr>\n",
       "  </thead>\n",
       "  <tbody>\n",
       "    <tr>\n",
       "      <th>0</th>\n",
       "      <td>1.0</td>\n",
       "      <td>5.0</td>\n",
       "      <td>NaN</td>\n",
       "      <td>NaN</td>\n",
       "      <td>NaN</td>\n",
       "      <td>40.0</td>\n",
       "      <td>NaN</td>\n",
       "      <td>NaN</td>\n",
       "      <td>2.0</td>\n",
       "      <td>NaN</td>\n",
       "      <td>11.0</td>\n",
       "      <td>average</td>\n",
       "      <td>NaN</td>\n",
       "      <td>NaN</td>\n",
       "      <td>yes</td>\n",
       "      <td>NaN</td>\n",
       "      <td>good</td>\n",
       "    </tr>\n",
       "    <tr>\n",
       "      <th>1</th>\n",
       "      <td>2.0</td>\n",
       "      <td>4.5</td>\n",
       "      <td>5.8</td>\n",
       "      <td>NaN</td>\n",
       "      <td>NaN</td>\n",
       "      <td>35.0</td>\n",
       "      <td>ret_allw</td>\n",
       "      <td>NaN</td>\n",
       "      <td>NaN</td>\n",
       "      <td>yes</td>\n",
       "      <td>11.0</td>\n",
       "      <td>below_average</td>\n",
       "      <td>NaN</td>\n",
       "      <td>full</td>\n",
       "      <td>NaN</td>\n",
       "      <td>full</td>\n",
       "      <td>good</td>\n",
       "    </tr>\n",
       "    <tr>\n",
       "      <th>2</th>\n",
       "      <td>NaN</td>\n",
       "      <td>NaN</td>\n",
       "      <td>NaN</td>\n",
       "      <td>NaN</td>\n",
       "      <td>NaN</td>\n",
       "      <td>38.0</td>\n",
       "      <td>empl_contr</td>\n",
       "      <td>NaN</td>\n",
       "      <td>5.0</td>\n",
       "      <td>NaN</td>\n",
       "      <td>11.0</td>\n",
       "      <td>generous</td>\n",
       "      <td>yes</td>\n",
       "      <td>half</td>\n",
       "      <td>yes</td>\n",
       "      <td>half</td>\n",
       "      <td>good</td>\n",
       "    </tr>\n",
       "    <tr>\n",
       "      <th>3</th>\n",
       "      <td>3.0</td>\n",
       "      <td>3.7</td>\n",
       "      <td>4.0</td>\n",
       "      <td>5.0</td>\n",
       "      <td>tc</td>\n",
       "      <td>NaN</td>\n",
       "      <td>NaN</td>\n",
       "      <td>NaN</td>\n",
       "      <td>NaN</td>\n",
       "      <td>yes</td>\n",
       "      <td>NaN</td>\n",
       "      <td>NaN</td>\n",
       "      <td>NaN</td>\n",
       "      <td>NaN</td>\n",
       "      <td>yes</td>\n",
       "      <td>NaN</td>\n",
       "      <td>good</td>\n",
       "    </tr>\n",
       "    <tr>\n",
       "      <th>4</th>\n",
       "      <td>3.0</td>\n",
       "      <td>4.5</td>\n",
       "      <td>4.5</td>\n",
       "      <td>5.0</td>\n",
       "      <td>NaN</td>\n",
       "      <td>40.0</td>\n",
       "      <td>NaN</td>\n",
       "      <td>NaN</td>\n",
       "      <td>NaN</td>\n",
       "      <td>NaN</td>\n",
       "      <td>12.0</td>\n",
       "      <td>average</td>\n",
       "      <td>NaN</td>\n",
       "      <td>half</td>\n",
       "      <td>yes</td>\n",
       "      <td>half</td>\n",
       "      <td>good</td>\n",
       "    </tr>\n",
       "  </tbody>\n",
       "</table>\n",
       "</div>"
      ],
      "text/plain": [
       "   duration  wage-increase-first-year  wage-increase-second-year  \\\n",
       "0       1.0                       5.0                        NaN   \n",
       "1       2.0                       4.5                        5.8   \n",
       "2       NaN                       NaN                        NaN   \n",
       "3       3.0                       3.7                        4.0   \n",
       "4       3.0                       4.5                        4.5   \n",
       "\n",
       "   wage-increase-third-year cost-of-living-adjustment  working-hours  \\\n",
       "0                       NaN                       NaN           40.0   \n",
       "1                       NaN                       NaN           35.0   \n",
       "2                       NaN                       NaN           38.0   \n",
       "3                       5.0                        tc            NaN   \n",
       "4                       5.0                       NaN           40.0   \n",
       "\n",
       "      pension  standby-pay  shift-differential education-allowance  \\\n",
       "0         NaN          NaN                 2.0                 NaN   \n",
       "1    ret_allw          NaN                 NaN                 yes   \n",
       "2  empl_contr          NaN                 5.0                 NaN   \n",
       "3         NaN          NaN                 NaN                 yes   \n",
       "4         NaN          NaN                 NaN                 NaN   \n",
       "\n",
       "   statutory-holidays       vacation longterm-disability-assistance  \\\n",
       "0                11.0        average                            NaN   \n",
       "1                11.0  below_average                            NaN   \n",
       "2                11.0       generous                            yes   \n",
       "3                 NaN            NaN                            NaN   \n",
       "4                12.0        average                            NaN   \n",
       "\n",
       "  contribution-to-dental-plan bereavement-assistance  \\\n",
       "0                         NaN                    yes   \n",
       "1                        full                    NaN   \n",
       "2                        half                    yes   \n",
       "3                         NaN                    yes   \n",
       "4                        half                    yes   \n",
       "\n",
       "  contribution-to-health-plan class  \n",
       "0                         NaN  good  \n",
       "1                        full  good  \n",
       "2                        half  good  \n",
       "3                         NaN  good  \n",
       "4                        half  good  "
      ]
     },
     "execution_count": 30,
     "metadata": {},
     "output_type": "execute_result"
    }
   ],
   "source": [
    "labornegotiations_data.head()"
   ]
  },
  {
   "cell_type": "code",
   "execution_count": 31,
   "id": "10dbea4a",
   "metadata": {},
   "outputs": [
    {
     "name": "stdout",
     "output_type": "stream",
     "text": [
      "duration                           1\n",
      "wage-increase-first-year           1\n",
      "wage-increase-second-year         11\n",
      "wage-increase-third-year          42\n",
      "cost-of-living-adjustment         20\n",
      "working-hours                      6\n",
      "pension                           30\n",
      "standby-pay                       48\n",
      "shift-differential                26\n",
      "education-allowance               35\n",
      "statutory-holidays                 4\n",
      "vacation                           6\n",
      "longterm-disability-assistance    29\n",
      "contribution-to-dental-plan       20\n",
      "bereavement-assistance            27\n",
      "contribution-to-health-plan       20\n",
      "class                              0\n",
      "dtype: int64\n"
     ]
    }
   ],
   "source": [
    "print(labornegotiations_data.isna().sum())"
   ]
  },
  {
   "cell_type": "markdown",
   "id": "c374bf63",
   "metadata": {},
   "source": [
    "Dropping the following features as more than 40% of the data is missing.\n",
    "\n",
    "Features Dropped:\n",
    "1. wage-increase-third-year\n",
    "2. pension\n",
    "3. standby-pay\n",
    "4. shift-differential\n",
    "5. education-allowance\n",
    "6. longterm-disability-assistance\n",
    "7. bereavement-assistance\n",
    "\n",
    "Using the following features and will Impute the missing values\n",
    "\n",
    "1. duration\n",
    "2. wage-increase-first-year\n",
    "3. wage-increase-second-year\n",
    "4. cost-of-living-adjustment\n",
    "5. working-hours\n",
    "6. statutory-holidays\n",
    "7. vacation\n",
    "8. contribution-to-dental-plan\n",
    "9. contribution-to-health-plan"
   ]
  },
  {
   "cell_type": "code",
   "execution_count": 32,
   "id": "43045b59",
   "metadata": {},
   "outputs": [],
   "source": [
    "select_features= [\"duration\", \"wage-increase-first-year\", \"wage-increase-second-year\", \"cost-of-living-adjustment\", \"working-hours\", \"statutory-holidays\", \"vacation\", \"contribution-to-dental-plan\", \"contribution-to-health-plan\"]"
   ]
  },
  {
   "cell_type": "code",
   "execution_count": 33,
   "id": "ad664d75",
   "metadata": {},
   "outputs": [
    {
     "data": {
      "text/html": [
       "<div>\n",
       "<style scoped>\n",
       "    .dataframe tbody tr th:only-of-type {\n",
       "        vertical-align: middle;\n",
       "    }\n",
       "\n",
       "    .dataframe tbody tr th {\n",
       "        vertical-align: top;\n",
       "    }\n",
       "\n",
       "    .dataframe thead th {\n",
       "        text-align: right;\n",
       "    }\n",
       "</style>\n",
       "<table border=\"1\" class=\"dataframe\">\n",
       "  <thead>\n",
       "    <tr style=\"text-align: right;\">\n",
       "      <th></th>\n",
       "      <th>duration</th>\n",
       "      <th>wage-increase-first-year</th>\n",
       "      <th>wage-increase-second-year</th>\n",
       "      <th>cost-of-living-adjustment</th>\n",
       "      <th>working-hours</th>\n",
       "      <th>statutory-holidays</th>\n",
       "      <th>vacation</th>\n",
       "      <th>contribution-to-dental-plan</th>\n",
       "      <th>contribution-to-health-plan</th>\n",
       "    </tr>\n",
       "  </thead>\n",
       "  <tbody>\n",
       "    <tr>\n",
       "      <th>0</th>\n",
       "      <td>1.0</td>\n",
       "      <td>5.0</td>\n",
       "      <td>NaN</td>\n",
       "      <td>NaN</td>\n",
       "      <td>40.0</td>\n",
       "      <td>11.0</td>\n",
       "      <td>average</td>\n",
       "      <td>NaN</td>\n",
       "      <td>NaN</td>\n",
       "    </tr>\n",
       "    <tr>\n",
       "      <th>1</th>\n",
       "      <td>2.0</td>\n",
       "      <td>4.5</td>\n",
       "      <td>5.8</td>\n",
       "      <td>NaN</td>\n",
       "      <td>35.0</td>\n",
       "      <td>11.0</td>\n",
       "      <td>below_average</td>\n",
       "      <td>full</td>\n",
       "      <td>full</td>\n",
       "    </tr>\n",
       "    <tr>\n",
       "      <th>2</th>\n",
       "      <td>NaN</td>\n",
       "      <td>NaN</td>\n",
       "      <td>NaN</td>\n",
       "      <td>NaN</td>\n",
       "      <td>38.0</td>\n",
       "      <td>11.0</td>\n",
       "      <td>generous</td>\n",
       "      <td>half</td>\n",
       "      <td>half</td>\n",
       "    </tr>\n",
       "    <tr>\n",
       "      <th>3</th>\n",
       "      <td>3.0</td>\n",
       "      <td>3.7</td>\n",
       "      <td>4.0</td>\n",
       "      <td>tc</td>\n",
       "      <td>NaN</td>\n",
       "      <td>NaN</td>\n",
       "      <td>NaN</td>\n",
       "      <td>NaN</td>\n",
       "      <td>NaN</td>\n",
       "    </tr>\n",
       "    <tr>\n",
       "      <th>4</th>\n",
       "      <td>3.0</td>\n",
       "      <td>4.5</td>\n",
       "      <td>4.5</td>\n",
       "      <td>NaN</td>\n",
       "      <td>40.0</td>\n",
       "      <td>12.0</td>\n",
       "      <td>average</td>\n",
       "      <td>half</td>\n",
       "      <td>half</td>\n",
       "    </tr>\n",
       "  </tbody>\n",
       "</table>\n",
       "</div>"
      ],
      "text/plain": [
       "   duration  wage-increase-first-year  wage-increase-second-year  \\\n",
       "0       1.0                       5.0                        NaN   \n",
       "1       2.0                       4.5                        5.8   \n",
       "2       NaN                       NaN                        NaN   \n",
       "3       3.0                       3.7                        4.0   \n",
       "4       3.0                       4.5                        4.5   \n",
       "\n",
       "  cost-of-living-adjustment  working-hours  statutory-holidays       vacation  \\\n",
       "0                       NaN           40.0                11.0        average   \n",
       "1                       NaN           35.0                11.0  below_average   \n",
       "2                       NaN           38.0                11.0       generous   \n",
       "3                        tc            NaN                 NaN            NaN   \n",
       "4                       NaN           40.0                12.0        average   \n",
       "\n",
       "  contribution-to-dental-plan contribution-to-health-plan  \n",
       "0                         NaN                         NaN  \n",
       "1                        full                        full  \n",
       "2                        half                        half  \n",
       "3                         NaN                         NaN  \n",
       "4                        half                        half  "
      ]
     },
     "execution_count": 33,
     "metadata": {},
     "output_type": "execute_result"
    }
   ],
   "source": [
    "labornegotiations_data_X = labornegotiations_data[select_features]\n",
    "labornegotiations_data_Y = labornegotiations_data[[\"class\"]].replace({\"good\":1, \"bad\":0})\n",
    "labornegotiations_data_X.head()"
   ]
  },
  {
   "cell_type": "code",
   "execution_count": 34,
   "id": "f3a36755",
   "metadata": {},
   "outputs": [
    {
     "name": "stdout",
     "output_type": "stream",
     "text": [
      "<class 'pandas.core.frame.DataFrame'>\n",
      "RangeIndex: 57 entries, 0 to 56\n",
      "Data columns (total 9 columns):\n",
      " #   Column                       Non-Null Count  Dtype  \n",
      "---  ------                       --------------  -----  \n",
      " 0   duration                     56 non-null     float64\n",
      " 1   wage-increase-first-year     56 non-null     float64\n",
      " 2   wage-increase-second-year    46 non-null     float64\n",
      " 3   cost-of-living-adjustment    37 non-null     object \n",
      " 4   working-hours                51 non-null     float64\n",
      " 5   statutory-holidays           53 non-null     float64\n",
      " 6   vacation                     51 non-null     object \n",
      " 7   contribution-to-dental-plan  37 non-null     object \n",
      " 8   contribution-to-health-plan  37 non-null     object \n",
      "dtypes: float64(5), object(4)\n",
      "memory usage: 4.1+ KB\n"
     ]
    }
   ],
   "source": [
    "labornegotiations_data_X.info()"
   ]
  },
  {
   "cell_type": "code",
   "execution_count": 35,
   "id": "847a1ddf",
   "metadata": {},
   "outputs": [
    {
     "data": {
      "text/html": [
       "<div>\n",
       "<style scoped>\n",
       "    .dataframe tbody tr th:only-of-type {\n",
       "        vertical-align: middle;\n",
       "    }\n",
       "\n",
       "    .dataframe tbody tr th {\n",
       "        vertical-align: top;\n",
       "    }\n",
       "\n",
       "    .dataframe thead th {\n",
       "        text-align: right;\n",
       "    }\n",
       "</style>\n",
       "<table border=\"1\" class=\"dataframe\">\n",
       "  <thead>\n",
       "    <tr style=\"text-align: right;\">\n",
       "      <th></th>\n",
       "      <th>duration</th>\n",
       "      <th>wage-increase-first-year</th>\n",
       "      <th>wage-increase-second-year</th>\n",
       "      <th>cost-of-living-adjustment</th>\n",
       "      <th>working-hours</th>\n",
       "      <th>statutory-holidays</th>\n",
       "      <th>vacation</th>\n",
       "      <th>contribution-to-dental-plan</th>\n",
       "      <th>contribution-to-health-plan</th>\n",
       "    </tr>\n",
       "  </thead>\n",
       "  <tbody>\n",
       "    <tr>\n",
       "      <th>0</th>\n",
       "      <td>1.0</td>\n",
       "      <td>5.0</td>\n",
       "      <td>NaN</td>\n",
       "      <td>0</td>\n",
       "      <td>40.0</td>\n",
       "      <td>11.0</td>\n",
       "      <td>0</td>\n",
       "      <td>1</td>\n",
       "      <td>0</td>\n",
       "    </tr>\n",
       "    <tr>\n",
       "      <th>1</th>\n",
       "      <td>2.0</td>\n",
       "      <td>4.5</td>\n",
       "      <td>5.8</td>\n",
       "      <td>0</td>\n",
       "      <td>35.0</td>\n",
       "      <td>11.0</td>\n",
       "      <td>1</td>\n",
       "      <td>0</td>\n",
       "      <td>0</td>\n",
       "    </tr>\n",
       "    <tr>\n",
       "      <th>2</th>\n",
       "      <td>NaN</td>\n",
       "      <td>NaN</td>\n",
       "      <td>NaN</td>\n",
       "      <td>0</td>\n",
       "      <td>38.0</td>\n",
       "      <td>11.0</td>\n",
       "      <td>2</td>\n",
       "      <td>1</td>\n",
       "      <td>1</td>\n",
       "    </tr>\n",
       "    <tr>\n",
       "      <th>3</th>\n",
       "      <td>3.0</td>\n",
       "      <td>3.7</td>\n",
       "      <td>4.0</td>\n",
       "      <td>1</td>\n",
       "      <td>NaN</td>\n",
       "      <td>NaN</td>\n",
       "      <td>1</td>\n",
       "      <td>1</td>\n",
       "      <td>0</td>\n",
       "    </tr>\n",
       "    <tr>\n",
       "      <th>4</th>\n",
       "      <td>3.0</td>\n",
       "      <td>4.5</td>\n",
       "      <td>4.5</td>\n",
       "      <td>0</td>\n",
       "      <td>40.0</td>\n",
       "      <td>12.0</td>\n",
       "      <td>0</td>\n",
       "      <td>1</td>\n",
       "      <td>1</td>\n",
       "    </tr>\n",
       "  </tbody>\n",
       "</table>\n",
       "</div>"
      ],
      "text/plain": [
       "   duration  wage-increase-first-year  wage-increase-second-year  \\\n",
       "0       1.0                       5.0                        NaN   \n",
       "1       2.0                       4.5                        5.8   \n",
       "2       NaN                       NaN                        NaN   \n",
       "3       3.0                       3.7                        4.0   \n",
       "4       3.0                       4.5                        4.5   \n",
       "\n",
       "   cost-of-living-adjustment  working-hours  statutory-holidays  vacation  \\\n",
       "0                          0           40.0                11.0         0   \n",
       "1                          0           35.0                11.0         1   \n",
       "2                          0           38.0                11.0         2   \n",
       "3                          1            NaN                 NaN         1   \n",
       "4                          0           40.0                12.0         0   \n",
       "\n",
       "   contribution-to-dental-plan  contribution-to-health-plan  \n",
       "0                            1                            0  \n",
       "1                            0                            0  \n",
       "2                            1                            1  \n",
       "3                            1                            0  \n",
       "4                            1                            1  "
      ]
     },
     "execution_count": 35,
     "metadata": {},
     "output_type": "execute_result"
    }
   ],
   "source": [
    "#Imputing Missing values and Label Encoding for Categorical Variables\n",
    "from sklearn import preprocessing\n",
    "categorical_features = [\"cost-of-living-adjustment\", \"vacation\", \"contribution-to-dental-plan\", \"contribution-to-health-plan\"]\n",
    "\n",
    "label_encoder = preprocessing.LabelEncoder()\n",
    "for i in categorical_features:\n",
    "    labornegotiations_data_X[i] = labornegotiations_data_X[i].fillna(labornegotiations_data_X[i].mode().iloc[0])\n",
    "    labornegotiations_data_X[i]= label_encoder.fit_transform(labornegotiations_data_X[i])\n",
    "labornegotiations_data_X.head()"
   ]
  },
  {
   "cell_type": "code",
   "execution_count": 36,
   "id": "0acb34f5",
   "metadata": {},
   "outputs": [
    {
     "data": {
      "text/html": [
       "<div>\n",
       "<style scoped>\n",
       "    .dataframe tbody tr th:only-of-type {\n",
       "        vertical-align: middle;\n",
       "    }\n",
       "\n",
       "    .dataframe tbody tr th {\n",
       "        vertical-align: top;\n",
       "    }\n",
       "\n",
       "    .dataframe thead th {\n",
       "        text-align: right;\n",
       "    }\n",
       "</style>\n",
       "<table border=\"1\" class=\"dataframe\">\n",
       "  <thead>\n",
       "    <tr style=\"text-align: right;\">\n",
       "      <th></th>\n",
       "      <th>duration</th>\n",
       "      <th>wage-increase-first-year</th>\n",
       "      <th>wage-increase-second-year</th>\n",
       "      <th>cost-of-living-adjustment</th>\n",
       "      <th>working-hours</th>\n",
       "      <th>statutory-holidays</th>\n",
       "      <th>vacation</th>\n",
       "      <th>contribution-to-dental-plan</th>\n",
       "      <th>contribution-to-health-plan</th>\n",
       "    </tr>\n",
       "  </thead>\n",
       "  <tbody>\n",
       "    <tr>\n",
       "      <th>0</th>\n",
       "      <td>1.00</td>\n",
       "      <td>5.00</td>\n",
       "      <td>4.33</td>\n",
       "      <td>0.0</td>\n",
       "      <td>40.00</td>\n",
       "      <td>11.00</td>\n",
       "      <td>0.0</td>\n",
       "      <td>1.0</td>\n",
       "      <td>0.0</td>\n",
       "    </tr>\n",
       "    <tr>\n",
       "      <th>1</th>\n",
       "      <td>2.00</td>\n",
       "      <td>4.50</td>\n",
       "      <td>5.80</td>\n",
       "      <td>0.0</td>\n",
       "      <td>35.00</td>\n",
       "      <td>11.00</td>\n",
       "      <td>1.0</td>\n",
       "      <td>0.0</td>\n",
       "      <td>0.0</td>\n",
       "    </tr>\n",
       "    <tr>\n",
       "      <th>2</th>\n",
       "      <td>2.33</td>\n",
       "      <td>4.33</td>\n",
       "      <td>5.30</td>\n",
       "      <td>0.0</td>\n",
       "      <td>38.00</td>\n",
       "      <td>11.00</td>\n",
       "      <td>2.0</td>\n",
       "      <td>1.0</td>\n",
       "      <td>1.0</td>\n",
       "    </tr>\n",
       "    <tr>\n",
       "      <th>3</th>\n",
       "      <td>3.00</td>\n",
       "      <td>3.70</td>\n",
       "      <td>4.00</td>\n",
       "      <td>1.0</td>\n",
       "      <td>32.67</td>\n",
       "      <td>12.33</td>\n",
       "      <td>1.0</td>\n",
       "      <td>1.0</td>\n",
       "      <td>0.0</td>\n",
       "    </tr>\n",
       "    <tr>\n",
       "      <th>4</th>\n",
       "      <td>3.00</td>\n",
       "      <td>4.50</td>\n",
       "      <td>4.50</td>\n",
       "      <td>0.0</td>\n",
       "      <td>40.00</td>\n",
       "      <td>12.00</td>\n",
       "      <td>0.0</td>\n",
       "      <td>1.0</td>\n",
       "      <td>1.0</td>\n",
       "    </tr>\n",
       "  </tbody>\n",
       "</table>\n",
       "</div>"
      ],
      "text/plain": [
       "   duration  wage-increase-first-year  wage-increase-second-year  \\\n",
       "0      1.00                      5.00                       4.33   \n",
       "1      2.00                      4.50                       5.80   \n",
       "2      2.33                      4.33                       5.30   \n",
       "3      3.00                      3.70                       4.00   \n",
       "4      3.00                      4.50                       4.50   \n",
       "\n",
       "   cost-of-living-adjustment  working-hours  statutory-holidays  vacation  \\\n",
       "0                        0.0          40.00               11.00       0.0   \n",
       "1                        0.0          35.00               11.00       1.0   \n",
       "2                        0.0          38.00               11.00       2.0   \n",
       "3                        1.0          32.67               12.33       1.0   \n",
       "4                        0.0          40.00               12.00       0.0   \n",
       "\n",
       "   contribution-to-dental-plan  contribution-to-health-plan  \n",
       "0                          1.0                          0.0  \n",
       "1                          0.0                          0.0  \n",
       "2                          1.0                          1.0  \n",
       "3                          1.0                          0.0  \n",
       "4                          1.0                          1.0  "
      ]
     },
     "execution_count": 36,
     "metadata": {},
     "output_type": "execute_result"
    }
   ],
   "source": [
    "#Impute Numerical Data using KNN Imputer\n",
    "from sklearn.impute import KNNImputer\n",
    "imputer = KNNImputer(n_neighbors=3)\n",
    "X_imputed = np.around(imputer.fit_transform(labornegotiations_data_X), decimals=2)\n",
    "labornegotiations_data_X = pd.DataFrame(X_imputed, labornegotiations_data_X.index, labornegotiations_data_X.columns)\n",
    "labornegotiations_data_X.head()"
   ]
  },
  {
   "cell_type": "code",
   "execution_count": 37,
   "id": "867618f6",
   "metadata": {},
   "outputs": [
    {
     "name": "stdout",
     "output_type": "stream",
     "text": [
      "duration                       0\n",
      "wage-increase-first-year       0\n",
      "wage-increase-second-year      0\n",
      "cost-of-living-adjustment      0\n",
      "working-hours                  0\n",
      "statutory-holidays             0\n",
      "vacation                       0\n",
      "contribution-to-dental-plan    0\n",
      "contribution-to-health-plan    0\n",
      "dtype: int64\n"
     ]
    }
   ],
   "source": [
    "print(labornegotiations_data_X.isna().sum())"
   ]
  },
  {
   "cell_type": "markdown",
   "id": "07979e62",
   "metadata": {},
   "source": [
    "### Feature Scaling"
   ]
  },
  {
   "cell_type": "code",
   "execution_count": 38,
   "id": "96ec5a3c",
   "metadata": {},
   "outputs": [
    {
     "data": {
      "text/html": [
       "<div>\n",
       "<style scoped>\n",
       "    .dataframe tbody tr th:only-of-type {\n",
       "        vertical-align: middle;\n",
       "    }\n",
       "\n",
       "    .dataframe tbody tr th {\n",
       "        vertical-align: top;\n",
       "    }\n",
       "\n",
       "    .dataframe thead th {\n",
       "        text-align: right;\n",
       "    }\n",
       "</style>\n",
       "<table border=\"1\" class=\"dataframe\">\n",
       "  <thead>\n",
       "    <tr style=\"text-align: right;\">\n",
       "      <th></th>\n",
       "      <th>duration</th>\n",
       "      <th>wage-increase-first-year</th>\n",
       "      <th>wage-increase-second-year</th>\n",
       "      <th>cost-of-living-adjustment</th>\n",
       "      <th>working-hours</th>\n",
       "      <th>statutory-holidays</th>\n",
       "      <th>vacation</th>\n",
       "      <th>contribution-to-dental-plan</th>\n",
       "      <th>contribution-to-health-plan</th>\n",
       "    </tr>\n",
       "  </thead>\n",
       "  <tbody>\n",
       "    <tr>\n",
       "      <th>0</th>\n",
       "      <td>-1.672869</td>\n",
       "      <td>0.880636</td>\n",
       "      <td>0.273073</td>\n",
       "      <td>-0.558819</td>\n",
       "      <td>0.805717</td>\n",
       "      <td>-0.081480</td>\n",
       "      <td>-1.291544</td>\n",
       "      <td>0.113684</td>\n",
       "      <td>-0.604210</td>\n",
       "    </tr>\n",
       "    <tr>\n",
       "      <th>1</th>\n",
       "      <td>-0.235306</td>\n",
       "      <td>0.509746</td>\n",
       "      <td>1.641541</td>\n",
       "      <td>-0.558819</td>\n",
       "      <td>-1.179494</td>\n",
       "      <td>-0.081480</td>\n",
       "      <td>0.023063</td>\n",
       "      <td>-1.506314</td>\n",
       "      <td>-0.604210</td>\n",
       "    </tr>\n",
       "    <tr>\n",
       "      <th>2</th>\n",
       "      <td>0.239089</td>\n",
       "      <td>0.383644</td>\n",
       "      <td>1.176076</td>\n",
       "      <td>-0.558819</td>\n",
       "      <td>0.011633</td>\n",
       "      <td>-0.081480</td>\n",
       "      <td>1.337670</td>\n",
       "      <td>0.113684</td>\n",
       "      <td>0.773389</td>\n",
       "    </tr>\n",
       "    <tr>\n",
       "      <th>3</th>\n",
       "      <td>1.202256</td>\n",
       "      <td>-0.083678</td>\n",
       "      <td>-0.034134</td>\n",
       "      <td>0.826080</td>\n",
       "      <td>-2.104602</td>\n",
       "      <td>1.009862</td>\n",
       "      <td>0.023063</td>\n",
       "      <td>0.113684</td>\n",
       "      <td>-0.604210</td>\n",
       "    </tr>\n",
       "    <tr>\n",
       "      <th>4</th>\n",
       "      <td>1.202256</td>\n",
       "      <td>0.509746</td>\n",
       "      <td>0.431331</td>\n",
       "      <td>-0.558819</td>\n",
       "      <td>0.805717</td>\n",
       "      <td>0.739078</td>\n",
       "      <td>-1.291544</td>\n",
       "      <td>0.113684</td>\n",
       "      <td>0.773389</td>\n",
       "    </tr>\n",
       "  </tbody>\n",
       "</table>\n",
       "</div>"
      ],
      "text/plain": [
       "   duration  wage-increase-first-year  wage-increase-second-year  \\\n",
       "0 -1.672869                  0.880636                   0.273073   \n",
       "1 -0.235306                  0.509746                   1.641541   \n",
       "2  0.239089                  0.383644                   1.176076   \n",
       "3  1.202256                 -0.083678                  -0.034134   \n",
       "4  1.202256                  0.509746                   0.431331   \n",
       "\n",
       "   cost-of-living-adjustment  working-hours  statutory-holidays  vacation  \\\n",
       "0                  -0.558819       0.805717           -0.081480 -1.291544   \n",
       "1                  -0.558819      -1.179494           -0.081480  0.023063   \n",
       "2                  -0.558819       0.011633           -0.081480  1.337670   \n",
       "3                   0.826080      -2.104602            1.009862  0.023063   \n",
       "4                  -0.558819       0.805717            0.739078 -1.291544   \n",
       "\n",
       "   contribution-to-dental-plan  contribution-to-health-plan  \n",
       "0                     0.113684                    -0.604210  \n",
       "1                    -1.506314                    -0.604210  \n",
       "2                     0.113684                     0.773389  \n",
       "3                     0.113684                    -0.604210  \n",
       "4                     0.113684                     0.773389  "
      ]
     },
     "execution_count": 38,
     "metadata": {},
     "output_type": "execute_result"
    }
   ],
   "source": [
    "from sklearn.preprocessing import StandardScaler\n",
    "\n",
    "scaler = StandardScaler()\n",
    "scaled_labor_dataset = scaler.fit_transform(labornegotiations_data_X)\n",
    "labornegotiations_data_X = pd.DataFrame(scaled_labor_dataset, columns = labornegotiations_data_X.columns)\n",
    "labornegotiations_data_X.head()"
   ]
  },
  {
   "cell_type": "markdown",
   "id": "9d6a454c",
   "metadata": {},
   "source": [
    "### 10 Fold CV - Labor Dataset - No Unsampling"
   ]
  },
  {
   "cell_type": "code",
   "execution_count": 39,
   "id": "361f2b42",
   "metadata": {},
   "outputs": [
    {
     "name": "stdout",
     "output_type": "stream",
     "text": [
      "Decision Tree Accuracy for Labor Negotiations Dataset: 82.33\n"
     ]
    }
   ],
   "source": [
    "#Decision Tree\n",
    "dt_model_labor = DecisionTreeClassifier(criterion=\"entropy\",max_depth = 4, random_state=42)\n",
    "dt_accuracy_labor = get_model_accuracy(labornegotiations_data_X, labornegotiations_data_Y.values.ravel(), dt_model_labor)\n",
    "print(\"Decision Tree Accuracy for Labor Negotiations Dataset: \"+str(dt_accuracy_labor))"
   ]
  },
  {
   "cell_type": "code",
   "execution_count": 40,
   "id": "757e723c",
   "metadata": {},
   "outputs": [
    {
     "name": "stdout",
     "output_type": "stream",
     "text": [
      "KNN Accuracy for Labor Negotiations Dataset: 93.0\n"
     ]
    }
   ],
   "source": [
    "#K-Nearest Neighbors\n",
    "knn_model_labor = KNeighborsClassifier(n_neighbors=5)\n",
    "knn_accuracy_labor = get_model_accuracy(labornegotiations_data_X, labornegotiations_data_Y.values.ravel(), knn_model_labor)\n",
    "print(\"KNN Accuracy for Labor Negotiations Dataset: \"+str(knn_accuracy_labor))"
   ]
  },
  {
   "cell_type": "code",
   "execution_count": 41,
   "id": "bf624c98",
   "metadata": {},
   "outputs": [
    {
     "name": "stdout",
     "output_type": "stream",
     "text": [
      "RF Accuracy for Labor Negotiations Dataset 93.33\n"
     ]
    }
   ],
   "source": [
    "#Random Forest\n",
    "rf_model_labor = RandomForestClassifier(n_estimators = 100, criterion = 'entropy', random_state=42)\n",
    "rf_accuracy_labor = get_model_accuracy(labornegotiations_data_X, labornegotiations_data_Y.values.ravel(), rf_model_labor)\n",
    "print(\"RF Accuracy for Labor Negotiations Dataset \"+str(rf_accuracy_labor))"
   ]
  },
  {
   "cell_type": "code",
   "execution_count": 42,
   "id": "2fef2734",
   "metadata": {},
   "outputs": [
    {
     "name": "stdout",
     "output_type": "stream",
     "text": [
      "SVM Accuracy for Labor Negotiations Dataset: 94.67\n"
     ]
    }
   ],
   "source": [
    "#Support Vector Machine\n",
    "svm_model_labor = SVC(kernel = 'rbf', gamma='auto', C=2)\n",
    "svm_accuracy_labor = get_model_accuracy(labornegotiations_data_X, labornegotiations_data_Y.values.ravel(), svm_model_labor)\n",
    "print(\"SVM Accuracy for Labor Negotiations Dataset: \"+str(svm_accuracy_labor))"
   ]
  },
  {
   "cell_type": "code",
   "execution_count": 43,
   "id": "8fe9290f",
   "metadata": {},
   "outputs": [
    {
     "name": "stdout",
     "output_type": "stream",
     "text": [
      "MLP Accuracy on no unsampling: 92.67\n"
     ]
    }
   ],
   "source": [
    "#Multi Layer Perceptron\n",
    "mlp_model_labor = MLPClassifier(hidden_layer_sizes=(100,), random_state=42, verbose=True, learning_rate_init=0.01)\n",
    "mlp_accuracy_labor = get_model_accuracy(labornegotiations_data_X, labornegotiations_data_Y.values.ravel(), mlp_model_labor)\n",
    "clear_output(wait=True)\n",
    "print(\"MLP Accuracy on no unsampling: \"+str(mlp_accuracy_labor))"
   ]
  },
  {
   "cell_type": "code",
   "execution_count": 44,
   "id": "b7a41b1f",
   "metadata": {},
   "outputs": [
    {
     "name": "stdout",
     "output_type": "stream",
     "text": [
      "GB Accuracy on no unsampling: 93.33\n"
     ]
    }
   ],
   "source": [
    "#Gradient Boosting Ensemble\n",
    "gb_model_labor = GradientBoostingClassifier(n_estimators=300, max_depth=6, learning_rate=0.1, subsample=0.3)\n",
    "gb_accuracy_labor = get_model_accuracy(labornegotiations_data_X, labornegotiations_data_Y.values.ravel(), gb_model_labor)\n",
    "print(\"GB Accuracy on no unsampling: \"+str(gb_accuracy_labor))"
   ]
  },
  {
   "cell_type": "markdown",
   "id": "800d3356",
   "metadata": {},
   "source": [
    "# Heart Disease Dataset"
   ]
  },
  {
   "cell_type": "code",
   "execution_count": 45,
   "id": "1daa7b19",
   "metadata": {},
   "outputs": [
    {
     "name": "stdout",
     "output_type": "stream",
     "text": [
      "Shape:  (303, 14)\n"
     ]
    },
    {
     "data": {
      "text/html": [
       "<div>\n",
       "<style scoped>\n",
       "    .dataframe tbody tr th:only-of-type {\n",
       "        vertical-align: middle;\n",
       "    }\n",
       "\n",
       "    .dataframe tbody tr th {\n",
       "        vertical-align: top;\n",
       "    }\n",
       "\n",
       "    .dataframe thead th {\n",
       "        text-align: right;\n",
       "    }\n",
       "</style>\n",
       "<table border=\"1\" class=\"dataframe\">\n",
       "  <thead>\n",
       "    <tr style=\"text-align: right;\">\n",
       "      <th></th>\n",
       "      <th>age</th>\n",
       "      <th>sex</th>\n",
       "      <th>cp</th>\n",
       "      <th>trtbps</th>\n",
       "      <th>chol</th>\n",
       "      <th>fbs</th>\n",
       "      <th>restecg</th>\n",
       "      <th>thalachh</th>\n",
       "      <th>exng</th>\n",
       "      <th>oldpeak</th>\n",
       "      <th>slp</th>\n",
       "      <th>caa</th>\n",
       "      <th>thall</th>\n",
       "      <th>output</th>\n",
       "    </tr>\n",
       "  </thead>\n",
       "  <tbody>\n",
       "    <tr>\n",
       "      <th>0</th>\n",
       "      <td>63</td>\n",
       "      <td>1</td>\n",
       "      <td>3</td>\n",
       "      <td>145</td>\n",
       "      <td>233</td>\n",
       "      <td>1</td>\n",
       "      <td>0</td>\n",
       "      <td>150</td>\n",
       "      <td>0</td>\n",
       "      <td>2.3</td>\n",
       "      <td>0</td>\n",
       "      <td>0</td>\n",
       "      <td>1</td>\n",
       "      <td>1</td>\n",
       "    </tr>\n",
       "    <tr>\n",
       "      <th>1</th>\n",
       "      <td>37</td>\n",
       "      <td>1</td>\n",
       "      <td>2</td>\n",
       "      <td>130</td>\n",
       "      <td>250</td>\n",
       "      <td>0</td>\n",
       "      <td>1</td>\n",
       "      <td>187</td>\n",
       "      <td>0</td>\n",
       "      <td>3.5</td>\n",
       "      <td>0</td>\n",
       "      <td>0</td>\n",
       "      <td>2</td>\n",
       "      <td>1</td>\n",
       "    </tr>\n",
       "    <tr>\n",
       "      <th>2</th>\n",
       "      <td>41</td>\n",
       "      <td>0</td>\n",
       "      <td>1</td>\n",
       "      <td>130</td>\n",
       "      <td>204</td>\n",
       "      <td>0</td>\n",
       "      <td>0</td>\n",
       "      <td>172</td>\n",
       "      <td>0</td>\n",
       "      <td>1.4</td>\n",
       "      <td>2</td>\n",
       "      <td>0</td>\n",
       "      <td>2</td>\n",
       "      <td>1</td>\n",
       "    </tr>\n",
       "    <tr>\n",
       "      <th>3</th>\n",
       "      <td>56</td>\n",
       "      <td>1</td>\n",
       "      <td>1</td>\n",
       "      <td>120</td>\n",
       "      <td>236</td>\n",
       "      <td>0</td>\n",
       "      <td>1</td>\n",
       "      <td>178</td>\n",
       "      <td>0</td>\n",
       "      <td>0.8</td>\n",
       "      <td>2</td>\n",
       "      <td>0</td>\n",
       "      <td>2</td>\n",
       "      <td>1</td>\n",
       "    </tr>\n",
       "    <tr>\n",
       "      <th>4</th>\n",
       "      <td>57</td>\n",
       "      <td>0</td>\n",
       "      <td>0</td>\n",
       "      <td>120</td>\n",
       "      <td>354</td>\n",
       "      <td>0</td>\n",
       "      <td>1</td>\n",
       "      <td>163</td>\n",
       "      <td>1</td>\n",
       "      <td>0.6</td>\n",
       "      <td>2</td>\n",
       "      <td>0</td>\n",
       "      <td>2</td>\n",
       "      <td>1</td>\n",
       "    </tr>\n",
       "  </tbody>\n",
       "</table>\n",
       "</div>"
      ],
      "text/plain": [
       "   age  sex  cp  trtbps  chol  fbs  restecg  thalachh  exng  oldpeak  slp  \\\n",
       "0   63    1   3     145   233    1        0       150     0      2.3    0   \n",
       "1   37    1   2     130   250    0        1       187     0      3.5    0   \n",
       "2   41    0   1     130   204    0        0       172     0      1.4    2   \n",
       "3   56    1   1     120   236    0        1       178     0      0.8    2   \n",
       "4   57    0   0     120   354    0        1       163     1      0.6    2   \n",
       "\n",
       "   caa  thall  output  \n",
       "0    0      1       1  \n",
       "1    0      2       1  \n",
       "2    0      2       1  \n",
       "3    0      2       1  \n",
       "4    0      2       1  "
      ]
     },
     "execution_count": 45,
     "metadata": {},
     "output_type": "execute_result"
    }
   ],
   "source": [
    "heart_disease_data = pd.read_csv(\"data/heart.csv\")\n",
    "print(\"Shape: \",heart_disease_data.shape)\n",
    "heart_disease_data.head()"
   ]
  },
  {
   "cell_type": "code",
   "execution_count": 46,
   "id": "20d60bb4",
   "metadata": {},
   "outputs": [
    {
     "name": "stdout",
     "output_type": "stream",
     "text": [
      "age         0\n",
      "sex         0\n",
      "cp          0\n",
      "trtbps      0\n",
      "chol        0\n",
      "fbs         0\n",
      "restecg     0\n",
      "thalachh    0\n",
      "exng        0\n",
      "oldpeak     0\n",
      "slp         0\n",
      "caa         0\n",
      "thall       0\n",
      "output      0\n",
      "dtype: int64\n"
     ]
    }
   ],
   "source": [
    "print(heart_disease_data.isna().sum())"
   ]
  },
  {
   "cell_type": "code",
   "execution_count": 47,
   "id": "ed946cbb",
   "metadata": {},
   "outputs": [
    {
     "name": "stdout",
     "output_type": "stream",
     "text": [
      "<class 'pandas.core.frame.DataFrame'>\n",
      "RangeIndex: 303 entries, 0 to 302\n",
      "Data columns (total 14 columns):\n",
      " #   Column    Non-Null Count  Dtype  \n",
      "---  ------    --------------  -----  \n",
      " 0   age       303 non-null    int64  \n",
      " 1   sex       303 non-null    int64  \n",
      " 2   cp        303 non-null    int64  \n",
      " 3   trtbps    303 non-null    int64  \n",
      " 4   chol      303 non-null    int64  \n",
      " 5   fbs       303 non-null    int64  \n",
      " 6   restecg   303 non-null    int64  \n",
      " 7   thalachh  303 non-null    int64  \n",
      " 8   exng      303 non-null    int64  \n",
      " 9   oldpeak   303 non-null    float64\n",
      " 10  slp       303 non-null    int64  \n",
      " 11  caa       303 non-null    int64  \n",
      " 12  thall     303 non-null    int64  \n",
      " 13  output    303 non-null    int64  \n",
      "dtypes: float64(1), int64(13)\n",
      "memory usage: 33.3 KB\n"
     ]
    }
   ],
   "source": [
    "heart_disease_data.info()"
   ]
  },
  {
   "cell_type": "markdown",
   "id": "afc5614f",
   "metadata": {},
   "source": [
    "## Feature Scaling"
   ]
  },
  {
   "cell_type": "code",
   "execution_count": 48,
   "id": "d18fc0d2",
   "metadata": {},
   "outputs": [],
   "source": [
    "heart_disease_X = heart_disease_data.drop(columns=\"output\", axis=1)\n",
    "heart_disease_Y = heart_disease_data[\"output\"]"
   ]
  },
  {
   "cell_type": "code",
   "execution_count": 49,
   "id": "05efacab",
   "metadata": {},
   "outputs": [
    {
     "data": {
      "text/html": [
       "<div>\n",
       "<style scoped>\n",
       "    .dataframe tbody tr th:only-of-type {\n",
       "        vertical-align: middle;\n",
       "    }\n",
       "\n",
       "    .dataframe tbody tr th {\n",
       "        vertical-align: top;\n",
       "    }\n",
       "\n",
       "    .dataframe thead th {\n",
       "        text-align: right;\n",
       "    }\n",
       "</style>\n",
       "<table border=\"1\" class=\"dataframe\">\n",
       "  <thead>\n",
       "    <tr style=\"text-align: right;\">\n",
       "      <th></th>\n",
       "      <th>age</th>\n",
       "      <th>sex</th>\n",
       "      <th>cp</th>\n",
       "      <th>trtbps</th>\n",
       "      <th>chol</th>\n",
       "      <th>fbs</th>\n",
       "      <th>restecg</th>\n",
       "      <th>thalachh</th>\n",
       "      <th>exng</th>\n",
       "      <th>oldpeak</th>\n",
       "      <th>slp</th>\n",
       "      <th>caa</th>\n",
       "      <th>thall</th>\n",
       "    </tr>\n",
       "  </thead>\n",
       "  <tbody>\n",
       "    <tr>\n",
       "      <th>0</th>\n",
       "      <td>0.952197</td>\n",
       "      <td>0.681005</td>\n",
       "      <td>1.973123</td>\n",
       "      <td>0.763956</td>\n",
       "      <td>-0.256334</td>\n",
       "      <td>2.394438</td>\n",
       "      <td>-1.005832</td>\n",
       "      <td>0.015443</td>\n",
       "      <td>-0.696631</td>\n",
       "      <td>1.087338</td>\n",
       "      <td>-2.274579</td>\n",
       "      <td>-0.714429</td>\n",
       "      <td>-2.148873</td>\n",
       "    </tr>\n",
       "    <tr>\n",
       "      <th>1</th>\n",
       "      <td>-1.915313</td>\n",
       "      <td>0.681005</td>\n",
       "      <td>1.002577</td>\n",
       "      <td>-0.092738</td>\n",
       "      <td>0.072199</td>\n",
       "      <td>-0.417635</td>\n",
       "      <td>0.898962</td>\n",
       "      <td>1.633471</td>\n",
       "      <td>-0.696631</td>\n",
       "      <td>2.122573</td>\n",
       "      <td>-2.274579</td>\n",
       "      <td>-0.714429</td>\n",
       "      <td>-0.512922</td>\n",
       "    </tr>\n",
       "    <tr>\n",
       "      <th>2</th>\n",
       "      <td>-1.474158</td>\n",
       "      <td>-1.468418</td>\n",
       "      <td>0.032031</td>\n",
       "      <td>-0.092738</td>\n",
       "      <td>-0.816773</td>\n",
       "      <td>-0.417635</td>\n",
       "      <td>-1.005832</td>\n",
       "      <td>0.977514</td>\n",
       "      <td>-0.696631</td>\n",
       "      <td>0.310912</td>\n",
       "      <td>0.976352</td>\n",
       "      <td>-0.714429</td>\n",
       "      <td>-0.512922</td>\n",
       "    </tr>\n",
       "    <tr>\n",
       "      <th>3</th>\n",
       "      <td>0.180175</td>\n",
       "      <td>0.681005</td>\n",
       "      <td>0.032031</td>\n",
       "      <td>-0.663867</td>\n",
       "      <td>-0.198357</td>\n",
       "      <td>-0.417635</td>\n",
       "      <td>0.898962</td>\n",
       "      <td>1.239897</td>\n",
       "      <td>-0.696631</td>\n",
       "      <td>-0.206705</td>\n",
       "      <td>0.976352</td>\n",
       "      <td>-0.714429</td>\n",
       "      <td>-0.512922</td>\n",
       "    </tr>\n",
       "    <tr>\n",
       "      <th>4</th>\n",
       "      <td>0.290464</td>\n",
       "      <td>-1.468418</td>\n",
       "      <td>-0.938515</td>\n",
       "      <td>-0.663867</td>\n",
       "      <td>2.082050</td>\n",
       "      <td>-0.417635</td>\n",
       "      <td>0.898962</td>\n",
       "      <td>0.583939</td>\n",
       "      <td>1.435481</td>\n",
       "      <td>-0.379244</td>\n",
       "      <td>0.976352</td>\n",
       "      <td>-0.714429</td>\n",
       "      <td>-0.512922</td>\n",
       "    </tr>\n",
       "  </tbody>\n",
       "</table>\n",
       "</div>"
      ],
      "text/plain": [
       "        age       sex        cp    trtbps      chol       fbs   restecg  \\\n",
       "0  0.952197  0.681005  1.973123  0.763956 -0.256334  2.394438 -1.005832   \n",
       "1 -1.915313  0.681005  1.002577 -0.092738  0.072199 -0.417635  0.898962   \n",
       "2 -1.474158 -1.468418  0.032031 -0.092738 -0.816773 -0.417635 -1.005832   \n",
       "3  0.180175  0.681005  0.032031 -0.663867 -0.198357 -0.417635  0.898962   \n",
       "4  0.290464 -1.468418 -0.938515 -0.663867  2.082050 -0.417635  0.898962   \n",
       "\n",
       "   thalachh      exng   oldpeak       slp       caa     thall  \n",
       "0  0.015443 -0.696631  1.087338 -2.274579 -0.714429 -2.148873  \n",
       "1  1.633471 -0.696631  2.122573 -2.274579 -0.714429 -0.512922  \n",
       "2  0.977514 -0.696631  0.310912  0.976352 -0.714429 -0.512922  \n",
       "3  1.239897 -0.696631 -0.206705  0.976352 -0.714429 -0.512922  \n",
       "4  0.583939  1.435481 -0.379244  0.976352 -0.714429 -0.512922  "
      ]
     },
     "execution_count": 49,
     "metadata": {},
     "output_type": "execute_result"
    }
   ],
   "source": [
    "from sklearn.preprocessing import StandardScaler\n",
    "\n",
    "scaler = StandardScaler()\n",
    "scaled_heart_disease_dataset = scaler.fit_transform(heart_disease_X)\n",
    "heart_disease_X = pd.DataFrame(scaled_heart_disease_dataset, columns = heart_disease_X.columns)\n",
    "heart_disease_X.head()"
   ]
  },
  {
   "cell_type": "code",
   "execution_count": 50,
   "id": "7a62cef1",
   "metadata": {},
   "outputs": [
    {
     "name": "stdout",
     "output_type": "stream",
     "text": [
      "Feature age: 8.015291\n",
      "Feature sex: 20.579435\n",
      "Feature cp: 52.313982\n",
      "Feature trtbps: 0.312213\n",
      "Feature chol: 0.120194\n",
      "Feature fbs: 0.294538\n",
      "Feature restecg: 0.914169\n",
      "Feature thalachh: 36.817161\n",
      "Feature exng: 50.260859\n",
      "Feature oldpeak: 44.046460\n",
      "Feature slp: 25.093069\n",
      "Feature caa: 57.907549\n",
      "Feature thall: 34.747238\n"
     ]
    },
    {
     "data": {
      "image/png": "[encoded data removed]",
      "text/plain": [
       "<Figure size 432x288 with 1 Axes>"
      ]
     },
     "metadata": {
      "needs_background": "light"
     },
     "output_type": "display_data"
    }
   ],
   "source": [
    "#Perform Train-Test Split\n",
    "feature_list = heart_disease_X.columns\n",
    "X_heartdisease_train, X_heartdisease_test, y_heartdisease_train, y_heartdisease_test = train_test_split(heart_disease_X , heart_disease_Y, test_size = 0.33, random_state = 42)\n",
    "\n",
    "# configuration for selecting all features\n",
    "feature_selection_heartdisease = SelectKBest(score_func=f_classif, k=6)\n",
    "feature_selection_heartdisease.fit(X_heartdisease_train, y_heartdisease_train.values.ravel())\n",
    "\n",
    "for i in range(len(feature_selection_heartdisease.scores_)):\n",
    "    print('Feature %s: %f' % (feature_list[i], feature_selection_heartdisease.scores_[i]))\n",
    "# plot the scores\n",
    "plt.bar([i+1 for i in range(len(feature_selection_heartdisease.scores_))], feature_selection_heartdisease.scores_)\n",
    "plt.show()"
   ]
  },
  {
   "cell_type": "code",
   "execution_count": 51,
   "id": "e1161e29",
   "metadata": {},
   "outputs": [],
   "source": [
    "select_features = [\"sex\", \"cp\", \"exng\", \"oldpeak\", \"slp\", \"caa\"]\n",
    "heart_disease_X = heart_disease_X[select_features]"
   ]
  },
  {
   "cell_type": "markdown",
   "id": "820cc21c",
   "metadata": {},
   "source": [
    "### 10 Fold CV - Heart Disease Dataset - No Unsampling"
   ]
  },
  {
   "cell_type": "code",
   "execution_count": 52,
   "id": "18ee2a6d",
   "metadata": {},
   "outputs": [
    {
     "name": "stdout",
     "output_type": "stream",
     "text": [
      "Decision Tree Accuracy for Heart Disease Dataset: 81.46\n"
     ]
    }
   ],
   "source": [
    "#Decision Tree\n",
    "dt_model_heartdisease = DecisionTreeClassifier(criterion=\"gini\",max_depth = 4, random_state=42)\n",
    "dt_accuracy_heartdisease = get_model_accuracy(heart_disease_X, heart_disease_Y.values.ravel(), dt_model_heartdisease)\n",
    "print(\"Decision Tree Accuracy for Heart Disease Dataset: \"+str(dt_accuracy_heartdisease))"
   ]
  },
  {
   "cell_type": "code",
   "execution_count": 53,
   "id": "188c8f35",
   "metadata": {},
   "outputs": [
    {
     "name": "stdout",
     "output_type": "stream",
     "text": [
      "KNN Accuracy for Heart Disease Dataset: 81.13\n"
     ]
    }
   ],
   "source": [
    "#K-Nearest Neighbors\n",
    "knn_model_heartdisease = KNeighborsClassifier(n_neighbors=29)\n",
    "knn_accuracy_heartdisease = get_model_accuracy(heart_disease_X, heart_disease_Y.values.ravel(), knn_model_heartdisease)\n",
    "print(\"KNN Accuracy for Heart Disease Dataset: \"+str(knn_accuracy_heartdisease))"
   ]
  },
  {
   "cell_type": "code",
   "execution_count": 54,
   "id": "8adafa41",
   "metadata": {},
   "outputs": [
    {
     "name": "stdout",
     "output_type": "stream",
     "text": [
      "RF Accuracy for Heart Disease Dataset 83.44\n"
     ]
    }
   ],
   "source": [
    "#Random Forest\n",
    "rf_model_heartdisease = RandomForestClassifier(n_estimators = 200, criterion = 'entropy')\n",
    "rf_accuracy_heartdisease = get_model_accuracy(heart_disease_X, heart_disease_Y.values.ravel(), rf_model_heartdisease)\n",
    "print(\"RF Accuracy for Heart Disease Dataset \"+str(rf_accuracy_heartdisease))"
   ]
  },
  {
   "cell_type": "code",
   "execution_count": 55,
   "id": "ef3a0fc6",
   "metadata": {},
   "outputs": [
    {
     "name": "stdout",
     "output_type": "stream",
     "text": [
      "SVM Accuracy for Heart Disease Dataset: 85.1\n"
     ]
    }
   ],
   "source": [
    "#Support Vector Machine\n",
    "svm_model_heartdisease = SVC(kernel = 'poly', gamma='auto', C=1, degree=3)\n",
    "svm_accuracy_heartdisease = get_model_accuracy(heart_disease_X, heart_disease_Y.values.ravel(), svm_model_heartdisease)\n",
    "print(\"SVM Accuracy for Heart Disease Dataset: \"+str(svm_accuracy_heartdisease))"
   ]
  },
  {
   "cell_type": "code",
   "execution_count": 56,
   "id": "a1b4a17f",
   "metadata": {},
   "outputs": [
    {
     "name": "stdout",
     "output_type": "stream",
     "text": [
      "MLP Accuracy for Heart Disease Dataset: 85.13\n"
     ]
    }
   ],
   "source": [
    "#Multi Layer Perceptron\n",
    "mlp_model_heartdisease = MLPClassifier(hidden_layer_sizes=(6,5), random_state=42, verbose=True, learning_rate_init=0.01)\n",
    "mlp_accuracy_heartdisease = get_model_accuracy(heart_disease_X, heart_disease_Y.values.ravel(), mlp_model_heartdisease)\n",
    "clear_output(wait=True)\n",
    "print(\"MLP Accuracy for Heart Disease Dataset: \"+str(mlp_accuracy_heartdisease))"
   ]
  },
  {
   "cell_type": "code",
   "execution_count": 57,
   "id": "8608e731",
   "metadata": {},
   "outputs": [
    {
     "name": "stdout",
     "output_type": "stream",
     "text": [
      "GD Accuracy for Heart Disease Dataset: 83.11\n"
     ]
    }
   ],
   "source": [
    "#Gradient Boosting Ensemble\n",
    "gb_model_heartdisease = GradientBoostingClassifier(n_estimators=200, max_depth=3, subsample=0.5, learning_rate=0.01)\n",
    "gb_accuracy_heartdisease = get_model_accuracy(heart_disease_X, heart_disease_Y.values.ravel(), gb_model_heartdisease)\n",
    "print(\"GD Accuracy for Heart Disease Dataset: \"+str(gb_accuracy_heartdisease))"
   ]
  },
  {
   "cell_type": "code",
   "execution_count": 58,
   "id": "8ba2139a",
   "metadata": {},
   "outputs": [
    {
     "data": {
      "text/html": [
       "<div>\n",
       "<style scoped>\n",
       "    .dataframe tbody tr th:only-of-type {\n",
       "        vertical-align: middle;\n",
       "    }\n",
       "\n",
       "    .dataframe tbody tr th {\n",
       "        vertical-align: top;\n",
       "    }\n",
       "\n",
       "    .dataframe thead th {\n",
       "        text-align: right;\n",
       "    }\n",
       "</style>\n",
       "<table border=\"1\" class=\"dataframe\">\n",
       "  <thead>\n",
       "    <tr style=\"text-align: right;\">\n",
       "      <th></th>\n",
       "      <th>DT</th>\n",
       "      <th>KNN</th>\n",
       "      <th>RF</th>\n",
       "      <th>SVM</th>\n",
       "      <th>MLP</th>\n",
       "      <th>GB</th>\n",
       "    </tr>\n",
       "    <tr>\n",
       "      <th>Dataset Name</th>\n",
       "      <th></th>\n",
       "      <th></th>\n",
       "      <th></th>\n",
       "      <th></th>\n",
       "      <th></th>\n",
       "      <th></th>\n",
       "    </tr>\n",
       "  </thead>\n",
       "  <tbody>\n",
       "    <tr>\n",
       "      <th>Dataset D</th>\n",
       "      <td>79.04</td>\n",
       "      <td>79.84</td>\n",
       "      <td>79.73</td>\n",
       "      <td>80.96</td>\n",
       "      <td>80.63</td>\n",
       "      <td>81.06</td>\n",
       "    </tr>\n",
       "    <tr>\n",
       "      <th>Dataset DB1</th>\n",
       "      <td>76.50</td>\n",
       "      <td>78.09</td>\n",
       "      <td>79.57</td>\n",
       "      <td>78.57</td>\n",
       "      <td>79.15</td>\n",
       "      <td>81.00</td>\n",
       "    </tr>\n",
       "    <tr>\n",
       "      <th>Dataset DB2</th>\n",
       "      <td>79.15</td>\n",
       "      <td>79.79</td>\n",
       "      <td>79.89</td>\n",
       "      <td>80.48</td>\n",
       "      <td>80.00</td>\n",
       "      <td>81.17</td>\n",
       "    </tr>\n",
       "    <tr>\n",
       "      <th>Labor Negotiations</th>\n",
       "      <td>82.33</td>\n",
       "      <td>93.00</td>\n",
       "      <td>93.33</td>\n",
       "      <td>94.67</td>\n",
       "      <td>92.67</td>\n",
       "      <td>93.33</td>\n",
       "    </tr>\n",
       "    <tr>\n",
       "      <th>Heart Disease</th>\n",
       "      <td>81.46</td>\n",
       "      <td>81.13</td>\n",
       "      <td>83.44</td>\n",
       "      <td>85.10</td>\n",
       "      <td>85.13</td>\n",
       "      <td>83.11</td>\n",
       "    </tr>\n",
       "  </tbody>\n",
       "</table>\n",
       "</div>"
      ],
      "text/plain": [
       "                       DT    KNN     RF    SVM    MLP     GB\n",
       "Dataset Name                                                \n",
       "Dataset D           79.04  79.84  79.73  80.96  80.63  81.06\n",
       "Dataset DB1         76.50  78.09  79.57  78.57  79.15  81.00\n",
       "Dataset DB2         79.15  79.79  79.89  80.48  80.00  81.17\n",
       "Labor Negotiations  82.33  93.00  93.33  94.67  92.67  93.33\n",
       "Heart Disease       81.46  81.13  83.44  85.10  85.13  83.11"
      ]
     },
     "execution_count": 58,
     "metadata": {},
     "output_type": "execute_result"
    }
   ],
   "source": [
    "from tabulate import tabulate\n",
    "d = ['Dataset D', dt_accuracy, knn_accuracy, rf_accuracy, svm_accuracy, mlp_accuracy, gb_accuracy]\n",
    "db1 = ['Dataset DB1', dt_accuracy_os, knn_accuracy_os, rf_accuracy_os, svm_accuracy_os, mlp_accuracy_os, gb_accuracy_os]\n",
    "db2 = ['Dataset DB2', dt_accuracy_us, knn_accuracy_us, rf_accuracy_us, svm_accuracy_us, mlp_accuracy_us, gb_accuracy_us]\n",
    "labordb = ['Labor Negotiations', dt_accuracy_labor, knn_accuracy_labor, rf_accuracy_labor, svm_accuracy_labor, mlp_accuracy_labor, gb_accuracy_labor]\n",
    "heartdiseasedb = ['Heart Disease', dt_accuracy_heartdisease, knn_accuracy_heartdisease, rf_accuracy_heartdisease, svm_accuracy_heartdisease, mlp_accuracy_heartdisease, gb_accuracy_heartdisease]\n",
    "\n",
    "dataset_list=[d, db1, db2, labordb, heartdiseasedb]\n",
    "\n",
    "accuracy_dataframe = pd.DataFrame(dataset_list, columns=[\"Dataset Name\", \"DT\", \"KNN\", \"RF\", \"SVM\", \"MLP\", \"GB\"])\n",
    "accuracy_dataframe = accuracy_dataframe.set_index(list(accuracy_dataframe)[0])\n",
    "accuracy_dataframe"
   ]
  },
  {
   "cell_type": "code",
   "execution_count": 59,
   "id": "f5e3b447",
   "metadata": {},
   "outputs": [
    {
     "data": {
      "text/html": [
       "<div>\n",
       "<style scoped>\n",
       "    .dataframe tbody tr th:only-of-type {\n",
       "        vertical-align: middle;\n",
       "    }\n",
       "\n",
       "    .dataframe tbody tr th {\n",
       "        vertical-align: top;\n",
       "    }\n",
       "\n",
       "    .dataframe thead th {\n",
       "        text-align: right;\n",
       "    }\n",
       "</style>\n",
       "<table border=\"1\" class=\"dataframe\">\n",
       "  <thead>\n",
       "    <tr style=\"text-align: right;\">\n",
       "      <th></th>\n",
       "      <th>DT</th>\n",
       "      <th>KNN</th>\n",
       "      <th>RF</th>\n",
       "      <th>SVM</th>\n",
       "      <th>MLP</th>\n",
       "      <th>GB</th>\n",
       "    </tr>\n",
       "    <tr>\n",
       "      <th>Dataset Name</th>\n",
       "      <th></th>\n",
       "      <th></th>\n",
       "      <th></th>\n",
       "      <th></th>\n",
       "      <th></th>\n",
       "      <th></th>\n",
       "    </tr>\n",
       "  </thead>\n",
       "  <tbody>\n",
       "    <tr>\n",
       "      <th>Dataset D</th>\n",
       "      <td>6.0</td>\n",
       "      <td>4.0</td>\n",
       "      <td>5.0</td>\n",
       "      <td>2.0</td>\n",
       "      <td>3.0</td>\n",
       "      <td>1.0</td>\n",
       "    </tr>\n",
       "    <tr>\n",
       "      <th>Dataset DB1</th>\n",
       "      <td>6.0</td>\n",
       "      <td>5.0</td>\n",
       "      <td>2.0</td>\n",
       "      <td>4.0</td>\n",
       "      <td>3.0</td>\n",
       "      <td>1.0</td>\n",
       "    </tr>\n",
       "    <tr>\n",
       "      <th>Dataset DB2</th>\n",
       "      <td>6.0</td>\n",
       "      <td>5.0</td>\n",
       "      <td>4.0</td>\n",
       "      <td>2.0</td>\n",
       "      <td>3.0</td>\n",
       "      <td>1.0</td>\n",
       "    </tr>\n",
       "    <tr>\n",
       "      <th>Labor Negotiations</th>\n",
       "      <td>6.0</td>\n",
       "      <td>4.0</td>\n",
       "      <td>2.0</td>\n",
       "      <td>1.0</td>\n",
       "      <td>5.0</td>\n",
       "      <td>2.0</td>\n",
       "    </tr>\n",
       "    <tr>\n",
       "      <th>Heart Disease</th>\n",
       "      <td>5.0</td>\n",
       "      <td>6.0</td>\n",
       "      <td>3.0</td>\n",
       "      <td>2.0</td>\n",
       "      <td>1.0</td>\n",
       "      <td>4.0</td>\n",
       "    </tr>\n",
       "  </tbody>\n",
       "</table>\n",
       "</div>"
      ],
      "text/plain": [
       "                     DT  KNN   RF  SVM  MLP   GB\n",
       "Dataset Name                                    \n",
       "Dataset D           6.0  4.0  5.0  2.0  3.0  1.0\n",
       "Dataset DB1         6.0  5.0  2.0  4.0  3.0  1.0\n",
       "Dataset DB2         6.0  5.0  4.0  2.0  3.0  1.0\n",
       "Labor Negotiations  6.0  4.0  2.0  1.0  5.0  2.0\n",
       "Heart Disease       5.0  6.0  3.0  2.0  1.0  4.0"
      ]
     },
     "execution_count": 59,
     "metadata": {},
     "output_type": "execute_result"
    }
   ],
   "source": [
    "rank_df = accuracy_dataframe.rank(1, ascending=False, method='min')\n",
    "rank_df"
   ]
  },
  {
   "cell_type": "code",
   "execution_count": 60,
   "id": "a10f48ac",
   "metadata": {},
   "outputs": [
    {
     "data": {
      "text/plain": [
       "DT     5.8\n",
       "KNN    4.8\n",
       "RF     3.2\n",
       "SVM    2.2\n",
       "MLP    3.0\n",
       "GB     1.8\n",
       "dtype: float64"
      ]
     },
     "execution_count": 60,
     "metadata": {},
     "output_type": "execute_result"
    }
   ],
   "source": [
    "rank_df.mean()"
   ]
  },
  {
   "cell_type": "code",
   "execution_count": 61,
   "id": "9e561219",
   "metadata": {},
   "outputs": [
    {
     "name": "stdout",
     "output_type": "stream",
     "text": [
      "Statistic:  16.5517 P - Value:  0.0054\n"
     ]
    }
   ],
   "source": [
    "statistic, p_value = friedmanchisquare(accuracy_dataframe[\"DT\"], \n",
    "                                       accuracy_dataframe[\"KNN\"], \n",
    "                                       accuracy_dataframe[\"RF\"], \n",
    "                                       accuracy_dataframe[\"SVM\"], accuracy_dataframe[\"MLP\"], accuracy_dataframe[\"GB\"])\n",
    "\n",
    "print(\"Statistic: \", round(statistic, 4), \"P - Value: \",round(p_value,4))"
   ]
  },
  {
   "cell_type": "markdown",
   "id": "f3fb585e",
   "metadata": {},
   "source": [
    "### Since Critical Value forAlpha (0.05) is 10.49 and our Friedman Statistic is 13.6207 which is more than Alpha, hence Null Hypothesis (H0) is rejected"
   ]
  },
  {
   "cell_type": "code",
   "execution_count": 62,
   "id": "b0d3cadd",
   "metadata": {},
   "outputs": [
    {
     "data": {
      "text/html": [
       "<div>\n",
       "<style scoped>\n",
       "    .dataframe tbody tr th:only-of-type {\n",
       "        vertical-align: middle;\n",
       "    }\n",
       "\n",
       "    .dataframe tbody tr th {\n",
       "        vertical-align: top;\n",
       "    }\n",
       "\n",
       "    .dataframe thead th {\n",
       "        text-align: right;\n",
       "    }\n",
       "</style>\n",
       "<table border=\"1\" class=\"dataframe\">\n",
       "  <thead>\n",
       "    <tr style=\"text-align: right;\">\n",
       "      <th></th>\n",
       "      <th>0</th>\n",
       "      <th>1</th>\n",
       "      <th>2</th>\n",
       "      <th>3</th>\n",
       "      <th>4</th>\n",
       "      <th>5</th>\n",
       "    </tr>\n",
       "  </thead>\n",
       "  <tbody>\n",
       "    <tr>\n",
       "      <th>0</th>\n",
       "      <td>1.000000</td>\n",
       "      <td>0.900000</td>\n",
       "      <td>0.280498</td>\n",
       "      <td>0.028378</td>\n",
       "      <td>0.168277</td>\n",
       "      <td>0.012585</td>\n",
       "    </tr>\n",
       "    <tr>\n",
       "      <th>1</th>\n",
       "      <td>0.900000</td>\n",
       "      <td>1.000000</td>\n",
       "      <td>0.776774</td>\n",
       "      <td>0.238619</td>\n",
       "      <td>0.630333</td>\n",
       "      <td>0.138788</td>\n",
       "    </tr>\n",
       "    <tr>\n",
       "      <th>2</th>\n",
       "      <td>0.280498</td>\n",
       "      <td>0.776774</td>\n",
       "      <td>1.000000</td>\n",
       "      <td>0.900000</td>\n",
       "      <td>0.900000</td>\n",
       "      <td>0.825589</td>\n",
       "    </tr>\n",
       "    <tr>\n",
       "      <th>3</th>\n",
       "      <td>0.028378</td>\n",
       "      <td>0.238619</td>\n",
       "      <td>0.900000</td>\n",
       "      <td>1.000000</td>\n",
       "      <td>0.900000</td>\n",
       "      <td>0.900000</td>\n",
       "    </tr>\n",
       "    <tr>\n",
       "      <th>4</th>\n",
       "      <td>0.168277</td>\n",
       "      <td>0.630333</td>\n",
       "      <td>0.900000</td>\n",
       "      <td>0.900000</td>\n",
       "      <td>1.000000</td>\n",
       "      <td>0.900000</td>\n",
       "    </tr>\n",
       "    <tr>\n",
       "      <th>5</th>\n",
       "      <td>0.012585</td>\n",
       "      <td>0.138788</td>\n",
       "      <td>0.825589</td>\n",
       "      <td>0.900000</td>\n",
       "      <td>0.900000</td>\n",
       "      <td>1.000000</td>\n",
       "    </tr>\n",
       "  </tbody>\n",
       "</table>\n",
       "</div>"
      ],
      "text/plain": [
       "          0         1         2         3         4         5\n",
       "0  1.000000  0.900000  0.280498  0.028378  0.168277  0.012585\n",
       "1  0.900000  1.000000  0.776774  0.238619  0.630333  0.138788\n",
       "2  0.280498  0.776774  1.000000  0.900000  0.900000  0.825589\n",
       "3  0.028378  0.238619  0.900000  1.000000  0.900000  0.900000\n",
       "4  0.168277  0.630333  0.900000  0.900000  1.000000  0.900000\n",
       "5  0.012585  0.138788  0.825589  0.900000  0.900000  1.000000"
      ]
     },
     "execution_count": 62,
     "metadata": {},
     "output_type": "execute_result"
    }
   ],
   "source": [
    "import scikit_posthocs as sp\n",
    "data_nemenyi = np.array([accuracy_dataframe[\"DT\"], \n",
    "                                       accuracy_dataframe[\"KNN\"], \n",
    "                                       accuracy_dataframe[\"RF\"], \n",
    "                                       accuracy_dataframe[\"SVM\"], accuracy_dataframe[\"MLP\"], accuracy_dataframe[\"GB\"]])\n",
    " \n",
    "# Conduct the Nemenyi post-hoc test\n",
    "sp.posthoc_nemenyi_friedman(data_nemenyi.T)"
   ]
  },
  {
   "cell_type": "code",
   "execution_count": 63,
   "id": "431e7077",
   "metadata": {},
   "outputs": [
    {
     "name": "stdout",
     "output_type": "stream",
     "text": [
      "cd= 3.3718164276595783\n"
     ]
    },
    {
     "data": {
      "image/png": "[encoded data removed]",
      "text/plain": [
       "<Figure size 720x133.2 with 1 Axes>"
      ]
     },
     "metadata": {},
     "output_type": "display_data"
    }
   ],
   "source": [
    "import Orange\n",
    "warnings.filterwarnings('ignore')\n",
    "names = [\"DT\", \"KNN\", \"RF\", \"SVM\", \"MLP\", \"GB\"]\n",
    "avranks = [5.6, 4.4, 3.8, 2.4, 2.0, 2.6]\n",
    "cd = Orange.evaluation.compute_CD(avranks, 5,alpha=\"0.05\")\n",
    "print(\"cd=\",cd)\n",
    "Orange.evaluation.graph_ranks(avranks, names, cd=cd, width=10, textspace=1.5)\n",
    "plt.show()"
   ]
  },
  {
   "cell_type": "code",
   "execution_count": null,
   "id": "e6e7160f",
   "metadata": {},
   "outputs": [],
   "source": []
  },
  {
   "cell_type": "code",
   "execution_count": null,
   "id": "1a87ef19",
   "metadata": {},
   "outputs": [],
   "source": []
  }
 ],
 "metadata": {
  "kernelspec": {
   "display_name": "Python 3 (ipykernel)",
   "language": "python",
   "name": "python3"
  },
  "language_info": {
   "codemirror_mode": {
    "name": "ipython",
    "version": 3
   },
   "file_extension": ".py",
   "mimetype": "text/x-python",
   "name": "python",
   "nbconvert_exporter": "python",
   "pygments_lexer": "ipython3",
   "version": "3.9.12"
  }
 },
 "nbformat": 4,
 "nbformat_minor": 5
}
