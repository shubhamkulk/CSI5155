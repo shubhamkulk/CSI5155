{
 "cells": [
  {
   "cell_type": "markdown",
   "id": "fa0bea0a",
   "metadata": {},
   "source": [
    "# Data Preprocessing"
   ]
  },
  {
   "cell_type": "code",
   "execution_count": null,
   "id": "eb71ebe4",
   "metadata": {},
   "outputs": [],
   "source": [
    "#import libraries\n",
    "import matplotlib.pyplot as plt\n",
    "%matplotlib inline\n",
    "import numpy as np\n",
    "import pandas as pd\n",
    "import seaborn as sns\n",
    "\n",
    "from sklearn import metrics\n",
    "from sklearn import tree\n",
    "from sklearn.ensemble import RandomForestClassifier\n",
    "from sklearn.metrics import classification_report, confusion_matrix, roc_curve\n",
    "from sklearn.model_selection import train_test_split\n",
    "from sklearn.neighbors import KNeighborsClassifier\n",
    "from sklearn.preprocessing import LabelEncoder\n",
    "from sklearn.svm import SVC\n",
    "from sklearn.tree import DecisionTreeClassifier\n",
    "from sklearn.tree import plot_tree"
   ]
  },
  {
   "cell_type": "code",
   "execution_count": null,
   "id": "a9e7ac03",
   "metadata": {},
   "outputs": [],
   "source": [
    "#set column names for dataset\n",
    "\n",
    "column_names = ['ID', 'Age', 'Gender', 'Education', 'Country', 'Ethnicity', 'Neuroticism', 'Extraversion', 'Openness', 'Agreeableness', 'Conscientiousness', 'Impulsiveness', 'Sensation_seeking', 'Alcohol', 'Amphetamine', 'Amyl_nitrite', 'Benzodiazepine', 'Caffeine', 'Cannabis', 'Chocolate', 'Cocaine', 'Crack', 'Ecstasy', 'Heroin', 'Ketamine', 'Legal_highs', 'LSD', 'Methadone', 'Mushrooms', 'Nicotine', 'Semeron', 'VSA']"
   ]
  },
  {
   "cell_type": "code",
   "execution_count": null,
   "id": "d51d5129",
   "metadata": {},
   "outputs": [],
   "source": [
    "#set drug names and feature names in a list (to be referenced ahead)\n",
    "\n",
    "dependent_features = ['Age', 'Gender', 'Education', 'Country', 'Ethnicity', 'Neuroticism', 'Extraversion', 'Openness', 'Agreeableness', 'Conscientiousness', 'Impulsiveness', 'Sensation_seeking']\n",
    "drug_names = ['Alcohol', 'Amphetamine', 'Amyl_nitrite', 'Benzodiazepine', 'Caffeine', 'Cannabis', 'Chocolate', 'Cocaine', 'Crack', 'Ecstasy', 'Heroin', 'Ketamine', 'Legal_highs', 'LSD', 'Methadone', 'Mushrooms', 'Nicotine', 'Semeron', 'VSA']"
   ]
  },
  {
   "cell_type": "code",
   "execution_count": null,
   "id": "4c2aad9f",
   "metadata": {},
   "outputs": [],
   "source": [
    "#load dataset in dataframe\n",
    "\n",
    "drug_data = pd.read_csv('/Users/shubhamkulkarni/shubham/Machine Learning Assignment/drug_consumption.data', header = None, names = column_names)\n",
    "drug_data.head()"
   ]
  },
  {
   "cell_type": "code",
   "execution_count": null,
   "id": "414f134f",
   "metadata": {},
   "outputs": [],
   "source": [
    "#check NaN in data (as per result none of the columns have NaN values)\n",
    "\n",
    "print(drug_data.isna().sum())"
   ]
  },
  {
   "cell_type": "code",
   "execution_count": null,
   "id": "6fab1270",
   "metadata": {
    "scrolled": true
   },
   "outputs": [],
   "source": [
    "#Check Unique values for each feature\n",
    "drug_data.nunique()"
   ]
  },
  {
   "cell_type": "code",
   "execution_count": null,
   "id": "24eec872",
   "metadata": {},
   "outputs": [],
   "source": [
    "#Using ID Column as index as it does not have any relation with the features\n",
    "\n",
    "drug_data.set_index('ID', inplace = True)"
   ]
  },
  {
   "cell_type": "code",
   "execution_count": null,
   "id": "26ed04ea",
   "metadata": {},
   "outputs": [],
   "source": [
    "# Label Encode columns into numeric data\n",
    "\n",
    "for column in column_names:\n",
    "    if column != 'ID':\n",
    "        le = LabelEncoder()\n",
    "        drug_data[column] = le.fit_transform(drug_data[column])\n",
    "drug_data.head()"
   ]
  },
  {
   "cell_type": "code",
   "execution_count": null,
   "id": "455ae3ce",
   "metadata": {},
   "outputs": [],
   "source": [
    "#Verify Data Consistency after Label Encoding\n",
    "print(drug_data.isna().sum())"
   ]
  },
  {
   "cell_type": "code",
   "execution_count": null,
   "id": "80d335ca",
   "metadata": {},
   "outputs": [],
   "source": [
    "#Categorizing Participants as users and non-users on the basis of their Drug usage\n",
    "#Assumptions: \n",
    "#1 - A person is a drug user if they used a drug in last decade, year, month, week or day\n",
    "\n",
    "#0 - A person is a non-drug user if they never used a drug or used over a decade ago\n",
    "\n",
    "def change(category):\n",
    "    if ((category == 6) or (category == 5) or (category == 4) or (category == 2) or (category == 3)):\n",
    "        category = 1\n",
    "    elif ((category == 0) or (category == 1)):\n",
    "        category = 0\n",
    "    return category"
   ]
  },
  {
   "cell_type": "code",
   "execution_count": null,
   "id": "5ad8206f",
   "metadata": {},
   "outputs": [],
   "source": [
    "# Updating the dataset to categorize users and non-users of drugs\n",
    "\n",
    "for column in drug_names:\n",
    "    drug_data[column] = drug_data[column].map(change)"
   ]
  },
  {
   "cell_type": "code",
   "execution_count": null,
   "id": "779fb219",
   "metadata": {},
   "outputs": [],
   "source": [
    "#Check Dependent Columns get segregated only in 2 categories\n",
    "drug_data.nunique()"
   ]
  },
  {
   "cell_type": "code",
   "execution_count": null,
   "id": "c6dfdde0",
   "metadata": {},
   "outputs": [],
   "source": [
    "#Plotting a correlation matrix between all the columns\n",
    "corrmat = drug_data.corr()\n",
    "\n",
    "plt.figure(figsize=(30,30))\n",
    "\n",
    "sns.set(font_scale=1)\n",
    "hm = sns.heatmap(corrmat,cmap = 'coolwarm',annot=True, yticklabels = drug_data.columns, xticklabels = drug_data.columns)\n",
    "plt.xticks(fontsize=13,rotation=50)\n",
    "plt.yticks(fontsize=13)\n",
    "plt.title(\"Correlation Between Different Features\",fontsize=20)\n",
    "plt.show()"
   ]
  },
  {
   "cell_type": "code",
   "execution_count": null,
   "id": "36568c60",
   "metadata": {},
   "outputs": [],
   "source": [
    "#find total users and non users for each drug\n",
    "total_data = len(drug_data.index)\n",
    "for column in drug_names:\n",
    "    print(\"Total\", column,\"users =\", drug_data[column].sum(), \", % of total = {:.2f}\".format(drug_data[column].sum()*100/total_data))\n",
    "    \n",
    "#Validated Against Research Paper 1    "
   ]
  },
  {
   "cell_type": "markdown",
   "id": "29e78636",
   "metadata": {},
   "source": [
    "I am choosing the following 6 druds to work on my models considering the variations in data available about the users and non users\n",
    "1. Alcohol, 2. Amphetamine, 3. Benzodiazepine, 4. Cannabis, 5. Ecstasy, 6. Nicotine"
   ]
  },
  {
   "cell_type": "code",
   "execution_count": null,
   "id": "340adbbd",
   "metadata": {},
   "outputs": [],
   "source": [
    "#Creating a new Dataset of just independent variables (to be used for building models on each of the selected drugs) \n",
    "feature_dataset = drug_data[dependent_features]\n",
    "len(feature_dataset.index)"
   ]
  },
  {
   "cell_type": "markdown",
   "id": "dab1ca1f",
   "metadata": {},
   "source": [
    "# Creating 4 Models for Alcohol User Classification"
   ]
  },
  {
   "cell_type": "code",
   "execution_count": null,
   "id": "c348f33b",
   "metadata": {},
   "outputs": [],
   "source": [
    "#Load Data in X and Y Dataframes\n",
    "X_alcohol = feature_dataset\n",
    "Y_alcohol = drug_data[[\"Alcohol\"]]\n",
    "\n",
    "#Perform Train-Test Split\n",
    "X_alcohol_train, X_alcohol_test, y_alcohol_train, y_alcohol_test = train_test_split(X_alcohol , Y_alcohol, test_size = 0.33, random_state = 42)\n",
    "print(\"Training split input- \", X_alcohol_train.shape)\n",
    "print(\"Testing split input- \", X_alcohol_test.shape)"
   ]
  },
  {
   "cell_type": "code",
   "execution_count": null,
   "id": "aab72585",
   "metadata": {},
   "outputs": [],
   "source": [
    "#Build Decision Tree Model\n",
    "alcohol_DT_classifier=DecisionTreeClassifier()\n",
    "alcohol_DT_classifier.fit(X_alcohol_train,y_alcohol_train)\n",
    "\n",
    "# Predicting the values of test data\n",
    "y_alcohol_DT_pred = alcohol_DT_classifier.predict(X_alcohol_test)\n",
    "print(\"Classification report - \\n\", classification_report(y_alcohol_test,y_alcohol_DT_pred))"
   ]
  },
  {
   "cell_type": "code",
   "execution_count": null,
   "id": "a6b7f434",
   "metadata": {},
   "outputs": [],
   "source": [
    "#Visualizing Tree \n",
    "plt.figure(figsize = (250,250))\n",
    "dec_tree = plot_tree(decision_tree=alcohol_DT_classifier, feature_names = X_alcohol.columns, \n",
    "                     class_names =[\"0\", \"1\"] , filled = True , precision = 4, rounded = True)\n",
    "plt.savefig(\"Decision Tree Alcohol.png\")"
   ]
  },
  {
   "cell_type": "code",
   "execution_count": null,
   "id": "58bd6104",
   "metadata": {},
   "outputs": [],
   "source": [
    "#Build KNN Model\n",
    "alcohol_KNN_classifier = KNeighborsClassifier()\n",
    "alcohol_KNN_classifier.fit(X_alcohol_train, y_alcohol_train.values.ravel())\n",
    "y_alcohol_KNN_pred = alcohol_KNN_classifier.predict(X_alcohol_test)\n",
    "print(\"Classification report - \\n\", classification_report(y_alcohol_test,y_alcohol_KNN_pred))"
   ]
  },
  {
   "cell_type": "code",
   "execution_count": null,
   "id": "a4d2459c",
   "metadata": {},
   "outputs": [],
   "source": [
    "#Build RF Model\n",
    "alcohol_RF_classifier = RandomForestClassifier(n_estimators = 200, criterion = 'entropy')\n",
    "alcohol_RF_classifier.fit(X_alcohol_train,y_alcohol_train.values.ravel())\n",
    "\n",
    "y_alcohol_RF_pred = alcohol_RF_classifier.predict(X_alcohol_test)\n",
    "print(\"Classification report - \\n\", classification_report(y_alcohol_test,y_alcohol_RF_pred))"
   ]
  },
  {
   "cell_type": "code",
   "execution_count": null,
   "id": "23d0b9a6",
   "metadata": {},
   "outputs": [],
   "source": [
    "#Build SVM Model\n",
    "alcohol_SVM_classifier = SVC(kernel = 'rbf', gamma='auto', C=2)\n",
    "alcohol_SVM_classifier.fit(X_alcohol_train, y_alcohol_train.values.ravel())\n",
    "y_alcohol_SVM_pred = alcohol_SVM_classifier.predict(X_alcohol_test)\n",
    "print(\"Classification report - \\n\", classification_report(y_alcohol_test,y_alcohol_SVM_pred))\n"
   ]
  },
  {
   "cell_type": "code",
   "execution_count": null,
   "id": "5e3d1b9c",
   "metadata": {},
   "outputs": [],
   "source": [
    "#Plotting Confusion matrix for all models\n",
    "fig, ax =plt.subplots(2,2,figsize=(15,10))\n",
    "\n",
    "fig.suptitle('Alcohol User Confusion Matrix', fontsize=30)\n",
    "\n",
    "alcohol_DT_cm = confusion_matrix(y_alcohol_test, y_alcohol_DT_pred)\n",
    "sns.heatmap(data=alcohol_DT_cm,linewidths=.5, annot=True,square = True,  cmap = 'Blues', fmt='g', ax=ax[0][0])\n",
    "all_sample_title = 'DT Accuracy Score: {0:.4f}'.format(alcohol_DT_classifier.score(X_alcohol_test, y_alcohol_test))\n",
    "ax[0][0].set_title(all_sample_title, size = 15)\n",
    "\n",
    "alcohol_KNN_cm = confusion_matrix(y_alcohol_test, y_alcohol_KNN_pred)\n",
    "sns.heatmap(data=alcohol_KNN_cm,linewidths=.5, annot=True,square = True,  cmap = 'Blues', fmt='g', ax=ax[0][1])\n",
    "all_sample_title = 'KNN Accuracy Score: {0:.4f}'.format(alcohol_KNN_classifier.score(X_alcohol_test, y_alcohol_test))\n",
    "ax[0][1].set_title(all_sample_title, size = 15)\n",
    "\n",
    "alcohol_RF_cm = confusion_matrix(y_alcohol_test, y_alcohol_RF_pred)\n",
    "sns.heatmap(data=alcohol_RF_cm,linewidths=.5, annot=True,square = True,  cmap = 'Blues', fmt='g', ax=ax[1][0])\n",
    "all_sample_title = 'RF Accuracy Score: {0:.4f}'.format(alcohol_RF_classifier.score(X_alcohol_test, y_alcohol_test))\n",
    "ax[1][0].set_title(all_sample_title, size = 15)\n",
    "\n",
    "alcohol_SVM_cm = confusion_matrix(y_alcohol_test, y_alcohol_SVM_pred)\n",
    "sns.heatmap(data=alcohol_SVM_cm,linewidths=.5, annot=True,square = True,  cmap = 'Blues', fmt='g', ax=ax[1][1])\n",
    "all_sample_title = 'SVM Accuracy Score: {0:.4f}'.format(alcohol_SVM_classifier.score(X_alcohol_test, y_alcohol_test))\n",
    "ax[1][1].set_title(all_sample_title, size = 15)\n",
    "\n",
    "\n",
    "\n",
    "for i in range (2):\n",
    "    for j in range (2):\n",
    "        ax[i][j].set_xlabel('Predicted label',fontsize = 15)\n",
    "        ax[i][j].set_ylabel('Actual label',fontsize = 15)\n",
    "\n",
    "fig.subplots_adjust(hspace=0.5)"
   ]
  },
  {
   "cell_type": "code",
   "execution_count": null,
   "id": "a6b7b48e",
   "metadata": {},
   "outputs": [],
   "source": [
    "#Plotting ROC Curves for all models\n",
    "fpr1 , tpr1, thresholds1 = roc_curve(y_alcohol_test, y_alcohol_DT_pred)\n",
    "auc_alcohol_DT = round(metrics.roc_auc_score(y_alcohol_test, y_alcohol_DT_pred), 4)\n",
    "fpr2 , tpr2, thresholds2 = roc_curve(y_alcohol_test, y_alcohol_KNN_pred)\n",
    "auc_alcohol_KNN = round(metrics.roc_auc_score(y_alcohol_test, y_alcohol_KNN_pred), 4)\n",
    "fpr3 , tpr3, thresholds3 = roc_curve(y_alcohol_test, y_alcohol_RF_pred)\n",
    "auc_alcohol_RF = round(metrics.roc_auc_score(y_alcohol_test, y_alcohol_RF_pred), 4)\n",
    "fpr4 , tpr4, thresholds4 = roc_curve(y_alcohol_test, y_alcohol_SVM_pred)\n",
    "auc_alcohol_SVM = round(metrics.roc_auc_score(y_alcohol_test, y_alcohol_SVM_pred), 4)\n",
    "\n",
    "plt.plot([0,1],[0,1], 'k--')\n",
    "plt.plot(fpr1, tpr1, label= \"DT, AUC=\"+str(auc_alcohol_DT))\n",
    "plt.plot(fpr2, tpr2, label= \"KNN, AUC=\"+str(auc_alcohol_KNN))\n",
    "plt.plot(fpr3, tpr3, label= \"RF, AUC=\"+str(auc_alcohol_RF))\n",
    "plt.plot(fpr4, tpr4, label= \"SVM, AUC=\"+str(auc_alcohol_SVM))\n",
    "\n",
    "plt.legend()\n",
    "plt.xlabel(\"False Postiive Rate\")\n",
    "plt.ylabel(\"True Positive Rate\")\n",
    "plt.title('Receiver Operating Characteristic')\n",
    "plt.show()"
   ]
  },
  {
   "cell_type": "markdown",
   "id": "faaae928",
   "metadata": {},
   "source": [
    "# Creating 4 Models for Amphetamine User Classification"
   ]
  },
  {
   "cell_type": "code",
   "execution_count": null,
   "id": "0046e39d",
   "metadata": {},
   "outputs": [],
   "source": [
    "#Load Data in X and Y Dataframes\n",
    "X_amphetamine = feature_dataset\n",
    "Y_amphetamine = drug_data[[\"Amphetamine\"]]\n",
    "\n",
    "#Perform Train-Test Split\n",
    "X_amphetamine_train, X_amphetamine_test, y_amphetamine_train, y_amphetamine_test = train_test_split(X_amphetamine , Y_amphetamine, test_size = 0.33, random_state = 42)\n",
    "print(\"Training split input- \", X_amphetamine_train.shape)\n",
    "print(\"Testing split input- \", X_amphetamine_test.shape)"
   ]
  },
  {
   "cell_type": "code",
   "execution_count": null,
   "id": "7ddbc7ae",
   "metadata": {},
   "outputs": [],
   "source": [
    "#Build Decision Tree Model\n",
    "amphetamine_DT_classifier=DecisionTreeClassifier()\n",
    "amphetamine_DT_classifier.fit(X_amphetamine_train,y_amphetamine_train)\n",
    "\n",
    "# Predicting the values of test data\n",
    "y_amphetamine_DT_pred = amphetamine_DT_classifier.predict(X_amphetamine_test)\n",
    "print(\"Classification report - \\n\", classification_report(y_amphetamine_test,y_amphetamine_DT_pred))"
   ]
  },
  {
   "cell_type": "code",
   "execution_count": null,
   "id": "4ffe9c29",
   "metadata": {},
   "outputs": [],
   "source": [
    "#Visualizing Tree\n",
    "plt.figure(figsize = (250,250))\n",
    "dec_tree = plot_tree(decision_tree=amphetamine_DT_classifier, feature_names = X_amphetamine.columns, \n",
    "                     class_names =[\"0\", \"1\"] , filled = True , precision = 4, rounded = True)\n",
    "plt.savefig(\"Decision Tree Amphetamine.png\")"
   ]
  },
  {
   "cell_type": "code",
   "execution_count": null,
   "id": "37528d24",
   "metadata": {},
   "outputs": [],
   "source": [
    "#Build KNN Model\n",
    "amphetamine_KNN_classifier = KNeighborsClassifier()\n",
    "amphetamine_KNN_classifier.fit(X_amphetamine_train, y_amphetamine_train.values.ravel())\n",
    "y_amphetamine_KNN_pred = amphetamine_KNN_classifier.predict(X_amphetamine_test)\n",
    "print(\"Classification report - \\n\", classification_report(y_amphetamine_test,y_amphetamine_KNN_pred))"
   ]
  },
  {
   "cell_type": "code",
   "execution_count": null,
   "id": "70a6ad07",
   "metadata": {},
   "outputs": [],
   "source": [
    "#Build RF Model\n",
    "amphetamine_RF_classifier = RandomForestClassifier(n_estimators = 200, criterion = 'entropy')\n",
    "amphetamine_RF_classifier.fit(X_amphetamine_train,y_amphetamine_train.values.ravel())\n",
    "\n",
    "y_amphetamine_RF_pred = amphetamine_RF_classifier.predict(X_amphetamine_test)\n",
    "print(\"Classification report - \\n\", classification_report(y_amphetamine_test,y_amphetamine_RF_pred))"
   ]
  },
  {
   "cell_type": "code",
   "execution_count": null,
   "id": "4136b370",
   "metadata": {},
   "outputs": [],
   "source": [
    "#Build SVM Model\n",
    "amphetamine_SVM_classifier = SVC(kernel = 'linear', gamma='auto', C=2)\n",
    "amphetamine_SVM_classifier.fit(X_amphetamine_train, y_amphetamine_train.values.ravel())\n",
    "y_amphetamine_SVM_pred = amphetamine_SVM_classifier.predict(X_amphetamine_test)\n",
    "print(\"Classification report - \\n\", classification_report(y_amphetamine_test,y_amphetamine_SVM_pred))"
   ]
  },
  {
   "cell_type": "code",
   "execution_count": null,
   "id": "c7a44aaf",
   "metadata": {},
   "outputs": [],
   "source": [
    "#Plotting Confusion matrix for all models\n",
    "fig, ax =plt.subplots(2,2,figsize=(15,10))\n",
    "\n",
    "fig.suptitle('Amphetamine User Confusion Matrix', fontsize=30)\n",
    "\n",
    "amphetamine_DT_cm = confusion_matrix(y_amphetamine_test, y_amphetamine_DT_pred)\n",
    "sns.heatmap(data=amphetamine_DT_cm,linewidths=.5, annot=True,square = True,  cmap = 'Blues', fmt='g', ax=ax[0][0])\n",
    "all_sample_title = 'DT Accuracy Score: {0:.4f}'.format(amphetamine_DT_classifier.score(X_amphetamine_test, y_amphetamine_test))\n",
    "ax[0][0].set_title(all_sample_title, size = 15)\n",
    "\n",
    "amphetamine_KNN_cm = confusion_matrix(y_amphetamine_test, y_amphetamine_KNN_pred)\n",
    "sns.heatmap(data=amphetamine_KNN_cm,linewidths=.5, annot=True,square = True,  cmap = 'Blues', fmt='g', ax=ax[0][1])\n",
    "all_sample_title = 'KNN Accuracy Score: {0:.4f}'.format(amphetamine_KNN_classifier.score(X_amphetamine_test, y_amphetamine_test))\n",
    "ax[0][1].set_title(all_sample_title, size = 15)\n",
    "\n",
    "amphetamine_RF_cm = confusion_matrix(y_amphetamine_test, y_amphetamine_RF_pred)\n",
    "sns.heatmap(data=amphetamine_RF_cm,linewidths=.5, annot=True,square = True,  cmap = 'Blues', fmt='g', ax=ax[1][0])\n",
    "all_sample_title = 'RF Accuracy Score: {0:.4f}'.format(amphetamine_RF_classifier.score(X_amphetamine_test, y_amphetamine_test))\n",
    "ax[1][0].set_title(all_sample_title, size = 15)\n",
    "\n",
    "amphetamine_SVM_cm = confusion_matrix(y_amphetamine_test, y_amphetamine_SVM_pred)\n",
    "sns.heatmap(data=amphetamine_SVM_cm,linewidths=.5, annot=True,square = True,  cmap = 'Blues', fmt='g', ax=ax[1][1])\n",
    "all_sample_title = 'SVM Accuracy Score: {0:.4f}'.format(amphetamine_SVM_classifier.score(X_amphetamine_test, y_amphetamine_test))\n",
    "ax[1][1].set_title(all_sample_title, size = 15)\n",
    "\n",
    "\n",
    "\n",
    "for i in range (2):\n",
    "    for j in range (2):\n",
    "        ax[i][j].set_xlabel('Predicted label',fontsize = 15)\n",
    "        ax[i][j].set_ylabel('Actual label',fontsize = 15)\n",
    "\n",
    "fig.subplots_adjust(hspace=0.5)"
   ]
  },
  {
   "cell_type": "code",
   "execution_count": null,
   "id": "224b1f73",
   "metadata": {},
   "outputs": [],
   "source": [
    "#Plotting ROC Curves for all models\n",
    "\n",
    "fpr1 , tpr1, thresholds1 = roc_curve(y_amphetamine_test, y_amphetamine_DT_pred)\n",
    "auc_amphetamine_DT = round(metrics.roc_auc_score(y_amphetamine_test, y_amphetamine_DT_pred), 4)\n",
    "fpr2 , tpr2, thresholds2 = roc_curve(y_amphetamine_test, y_amphetamine_KNN_pred)\n",
    "auc_amphetamine_KNN = round(metrics.roc_auc_score(y_amphetamine_test, y_amphetamine_KNN_pred), 4)\n",
    "fpr3 , tpr3, thresholds3 = roc_curve(y_amphetamine_test, y_amphetamine_RF_pred)\n",
    "auc_amphetamine_RF = round(metrics.roc_auc_score(y_amphetamine_test, y_amphetamine_RF_pred), 4)\n",
    "fpr4 , tpr4, thresholds4 = roc_curve(y_amphetamine_test, y_amphetamine_SVM_pred)\n",
    "auc_amphetamine_SVM = round(metrics.roc_auc_score(y_amphetamine_test, y_amphetamine_SVM_pred), 4)\n",
    "\n",
    "plt.plot([0,1],[0,1], 'k--')\n",
    "plt.plot(fpr1, tpr1, label= \"DT, AUC=\"+str(auc_amphetamine_DT))\n",
    "plt.plot(fpr2, tpr2, label= \"KNN, AUC=\"+str(auc_amphetamine_KNN))\n",
    "plt.plot(fpr3, tpr3, label= \"RF, AUC=\"+str(auc_amphetamine_RF))\n",
    "plt.plot(fpr4, tpr4, label= \"SVM, AUC=\"+str(auc_amphetamine_SVM))\n",
    "\n",
    "plt.legend()\n",
    "plt.xlabel(\"False Positive Rate\")\n",
    "plt.ylabel(\"True Positive Rate\")\n",
    "plt.title('Receiver Operating Characteristic')\n",
    "plt.show()"
   ]
  },
  {
   "cell_type": "markdown",
   "id": "172922ce",
   "metadata": {},
   "source": [
    "# Creating 4 Models for Benzodiazepine User Classification"
   ]
  },
  {
   "cell_type": "code",
   "execution_count": null,
   "id": "36191996",
   "metadata": {},
   "outputs": [],
   "source": [
    "#Load Data in X and Y Dataframes\n",
    "X_benzodiazepine = feature_dataset\n",
    "Y_benzodiazepine = drug_data[[\"Benzodiazepine\"]]\n",
    "\n",
    "#Perform Train-Test Split\n",
    "X_benzodiazepine_train, X_benzodiazepine_test, y_benzodiazepine_train, y_benzodiazepine_test = train_test_split(X_benzodiazepine , Y_benzodiazepine, test_size = 0.33, random_state = 42)\n",
    "print(\"Training split input- \", X_benzodiazepine_train.shape)\n",
    "print(\"Testing split input- \", X_benzodiazepine_test.shape)"
   ]
  },
  {
   "cell_type": "code",
   "execution_count": null,
   "id": "02a32d5f",
   "metadata": {},
   "outputs": [],
   "source": [
    "#Build Decision Tree Model\n",
    "benzodiazepine_DT_classifier=DecisionTreeClassifier()\n",
    "benzodiazepine_DT_classifier.fit(X_benzodiazepine_train,y_benzodiazepine_train)\n",
    "\n",
    "# Predicting the values of test data\n",
    "y_benzodiazepine_DT_pred = benzodiazepine_DT_classifier.predict(X_benzodiazepine_test)\n",
    "print(\"Classification report - \\n\", classification_report(y_benzodiazepine_test,y_benzodiazepine_DT_pred))"
   ]
  },
  {
   "cell_type": "code",
   "execution_count": null,
   "id": "76c49b91",
   "metadata": {},
   "outputs": [],
   "source": [
    "#Visualizing tree\n",
    "plt.figure(figsize = (250,250))\n",
    "dec_tree = plot_tree(decision_tree=benzodiazepine_DT_classifier, feature_names = X_benzodiazepine.columns, \n",
    "                     class_names =[\"0\", \"1\"] , filled = True , precision = 4, rounded = True)\n",
    "plt.savefig(\"Decision Tree Benzodiazepine.png\")"
   ]
  },
  {
   "cell_type": "code",
   "execution_count": null,
   "id": "4db6d6da",
   "metadata": {},
   "outputs": [],
   "source": [
    "#Build KNN Model\n",
    "benzodiazepine_KNN_classifier = KNeighborsClassifier()\n",
    "benzodiazepine_KNN_classifier.fit(X_benzodiazepine_train, y_benzodiazepine_train.values.ravel())\n",
    "y_benzodiazepine_KNN_pred = benzodiazepine_KNN_classifier.predict(X_benzodiazepine_test)\n",
    "print(\"Classification report - \\n\", classification_report(y_benzodiazepine_test,y_benzodiazepine_KNN_pred))"
   ]
  },
  {
   "cell_type": "code",
   "execution_count": null,
   "id": "b99a510b",
   "metadata": {},
   "outputs": [],
   "source": [
    "#Build RF Model\n",
    "benzodiazepine_RF_classifier = RandomForestClassifier(n_estimators = 200, criterion = 'entropy')\n",
    "benzodiazepine_RF_classifier.fit(X_benzodiazepine_train,y_benzodiazepine_train.values.ravel())\n",
    "\n",
    "y_benzodiazepine_RF_pred = benzodiazepine_RF_classifier.predict(X_benzodiazepine_test)\n",
    "print(\"Classification report - \\n\", classification_report(y_benzodiazepine_test,y_benzodiazepine_RF_pred))"
   ]
  },
  {
   "cell_type": "code",
   "execution_count": null,
   "id": "d16ef15d",
   "metadata": {},
   "outputs": [],
   "source": [
    "#Build SVM\n",
    "benzodiazepine_SVM_classifier = SVC(kernel = 'linear', gamma='auto', C=2)\n",
    "benzodiazepine_SVM_classifier.fit(X_benzodiazepine_train, y_benzodiazepine_train.values.ravel())\n",
    "y_benzodiazepine_SVM_pred = benzodiazepine_SVM_classifier.predict(X_benzodiazepine_test)\n",
    "print(\"Classification report - \\n\", classification_report(y_benzodiazepine_test,y_benzodiazepine_SVM_pred))"
   ]
  },
  {
   "cell_type": "code",
   "execution_count": null,
   "id": "e9fa572c",
   "metadata": {},
   "outputs": [],
   "source": [
    "#Plotting Confusion matrix for all models\n",
    "fig, ax =plt.subplots(2,2,figsize=(15,10))\n",
    "\n",
    "fig.suptitle('Benzodiazepine User Confusion Matrix', fontsize=30)\n",
    "\n",
    "benzodiazepine_DT_cm = confusion_matrix(y_benzodiazepine_test, y_benzodiazepine_DT_pred)\n",
    "sns.heatmap(data=benzodiazepine_DT_cm,linewidths=.5, annot=True,square = True,  cmap = 'Blues', fmt='g', ax=ax[0][0])\n",
    "all_sample_title = 'DT Accuracy Score: {0:.4f}'.format(benzodiazepine_DT_classifier.score(X_benzodiazepine_test, y_benzodiazepine_test))\n",
    "ax[0][0].set_title(all_sample_title, size = 15)\n",
    "\n",
    "benzodiazepine_KNN_cm = confusion_matrix(y_benzodiazepine_test, y_benzodiazepine_KNN_pred)\n",
    "sns.heatmap(data=benzodiazepine_KNN_cm,linewidths=.5, annot=True,square = True,  cmap = 'Blues', fmt='g', ax=ax[0][1])\n",
    "all_sample_title = 'KNN Accuracy Score: {0:.4f}'.format(benzodiazepine_KNN_classifier.score(X_benzodiazepine_test, y_benzodiazepine_test))\n",
    "ax[0][1].set_title(all_sample_title, size = 15)\n",
    "\n",
    "benzodiazepine_RF_cm = confusion_matrix(y_benzodiazepine_test, y_benzodiazepine_RF_pred)\n",
    "sns.heatmap(data=benzodiazepine_RF_cm,linewidths=.5, annot=True,square = True,  cmap = 'Blues', fmt='g', ax=ax[1][0])\n",
    "all_sample_title = 'RF Accuracy Score: {0:.4f}'.format(benzodiazepine_RF_classifier.score(X_benzodiazepine_test, y_benzodiazepine_test))\n",
    "ax[1][0].set_title(all_sample_title, size = 15)\n",
    "\n",
    "benzodiazepine_SVM_cm = confusion_matrix(y_benzodiazepine_test, y_benzodiazepine_SVM_pred)\n",
    "sns.heatmap(data=benzodiazepine_SVM_cm,linewidths=.5, annot=True,square = True,  cmap = 'Blues', fmt='g', ax=ax[1][1])\n",
    "all_sample_title = 'SVM Accuracy Score: {0:.4f}'.format(benzodiazepine_SVM_classifier.score(X_benzodiazepine_test, y_benzodiazepine_test))\n",
    "ax[1][1].set_title(all_sample_title, size = 15)\n",
    "\n",
    "\n",
    "for i in range (2):\n",
    "    for j in range (2):\n",
    "        ax[i][j].set_xlabel('Predicted label',fontsize = 15)\n",
    "        ax[i][j].set_ylabel('Actual label',fontsize = 15)\n",
    "\n",
    "fig.subplots_adjust(hspace=0.5)"
   ]
  },
  {
   "cell_type": "code",
   "execution_count": null,
   "id": "34874609",
   "metadata": {},
   "outputs": [],
   "source": [
    "#Plotting ROC Curves for all models\n",
    "\n",
    "fpr1 , tpr1, thresholds1 = roc_curve(y_benzodiazepine_test, y_benzodiazepine_DT_pred)\n",
    "auc_benzodiazepine_DT = round(metrics.roc_auc_score(y_benzodiazepine_test, y_benzodiazepine_DT_pred), 4)\n",
    "fpr2 , tpr2, thresholds2 = roc_curve(y_benzodiazepine_test, y_benzodiazepine_KNN_pred)\n",
    "auc_benzodiazepine_KNN = round(metrics.roc_auc_score(y_benzodiazepine_test, y_benzodiazepine_KNN_pred), 4)\n",
    "fpr3 , tpr3, thresholds3 = roc_curve(y_benzodiazepine_test, y_benzodiazepine_RF_pred)\n",
    "auc_benzodiazepine_RF = round(metrics.roc_auc_score(y_benzodiazepine_test, y_benzodiazepine_RF_pred), 4)\n",
    "fpr4 , tpr4, thresholds4 = roc_curve(y_benzodiazepine_test, y_benzodiazepine_SVM_pred)\n",
    "auc_benzodiazepine_SVM = round(metrics.roc_auc_score(y_benzodiazepine_test, y_benzodiazepine_SVM_pred), 4)\n",
    "\n",
    "plt.plot([0,1],[0,1], 'k--')\n",
    "plt.plot(fpr1, tpr1, label= \"DT, AUC=\"+str(auc_benzodiazepine_DT))\n",
    "plt.plot(fpr2, tpr2, label= \"KNN, AUC=\"+str(auc_benzodiazepine_KNN))\n",
    "plt.plot(fpr3, tpr3, label= \"RF, AUC=\"+str(auc_benzodiazepine_RF))\n",
    "plt.plot(fpr4, tpr4, label= \"SVM, AUC=\"+str(auc_benzodiazepine_SVM))\n",
    "\n",
    "plt.legend()\n",
    "plt.xlabel(\"False Positive Rate\")\n",
    "plt.ylabel(\"True Positive Rate\")\n",
    "plt.title('Receiver Operating Characteristic')\n",
    "plt.show()"
   ]
  },
  {
   "cell_type": "markdown",
   "id": "5c8d590a",
   "metadata": {},
   "source": [
    "# Creating 4 Models for Cannabis User Classification"
   ]
  },
  {
   "cell_type": "code",
   "execution_count": null,
   "id": "72ef631e",
   "metadata": {},
   "outputs": [],
   "source": [
    "#Load Data in X and Y Dataframes\n",
    "X_cannabis = feature_dataset\n",
    "Y_cannabis = drug_data[[\"Cannabis\"]]\n",
    "\n",
    "#Perform Train-Test Split\n",
    "X_cannabis_train, X_cannabis_test, y_cannabis_train, y_cannabis_test = train_test_split(X_cannabis , Y_cannabis, test_size = 0.33, random_state = 42)\n",
    "print(\"Training split input- \", X_cannabis_train.shape)\n",
    "print(\"Testing split input- \", X_cannabis_test.shape)"
   ]
  },
  {
   "cell_type": "code",
   "execution_count": null,
   "id": "7c0fc3fe",
   "metadata": {},
   "outputs": [],
   "source": [
    "#Build Decision Tree Model\n",
    "cannabis_DT_classifier=DecisionTreeClassifier()\n",
    "cannabis_DT_classifier.fit(X_cannabis_train,y_cannabis_train)\n",
    "\n",
    "# Predicting the values of test data\n",
    "y_cannabis_DT_pred = cannabis_DT_classifier.predict(X_cannabis_test)\n",
    "print(\"Classification report - \\n\", classification_report(y_cannabis_test,y_cannabis_DT_pred))"
   ]
  },
  {
   "cell_type": "code",
   "execution_count": null,
   "id": "565bc10a",
   "metadata": {},
   "outputs": [],
   "source": [
    "#Visualizing Tree\n",
    "plt.figure(figsize = (250,250))\n",
    "dec_tree = plot_tree(decision_tree=cannabis_DT_classifier, feature_names = X_cannabis.columns, \n",
    "                     class_names =[\"0\", \"1\"] , filled = True , precision = 4, rounded = True)\n",
    "plt.savefig(\"Decision Tree Cannabis.png\")"
   ]
  },
  {
   "cell_type": "code",
   "execution_count": null,
   "id": "57a4730a",
   "metadata": {},
   "outputs": [],
   "source": [
    "#Build KNN Model\n",
    "cannabis_KNN_classifier = KNeighborsClassifier()\n",
    "cannabis_KNN_classifier.fit(X_cannabis_train, y_cannabis_train.values.ravel())\n",
    "y_cannabis_KNN_pred = cannabis_KNN_classifier.predict(X_cannabis_test)\n",
    "print(\"Classification report - \\n\", classification_report(y_cannabis_test,y_cannabis_KNN_pred))"
   ]
  },
  {
   "cell_type": "code",
   "execution_count": null,
   "id": "04ceccee",
   "metadata": {},
   "outputs": [],
   "source": [
    "#Build RF Model\n",
    "cannabis_RF_classifier = RandomForestClassifier(n_estimators = 200, criterion = 'entropy')\n",
    "cannabis_RF_classifier.fit(X_cannabis_train,y_cannabis_train.values.ravel())\n",
    "\n",
    "y_cannabis_RF_pred = cannabis_RF_classifier.predict(X_cannabis_test)\n",
    "print(\"Classification report - \\n\", classification_report(y_cannabis_test,y_cannabis_RF_pred))"
   ]
  },
  {
   "cell_type": "code",
   "execution_count": null,
   "id": "1a98d492",
   "metadata": {},
   "outputs": [],
   "source": [
    "#Build SVM Model\n",
    "cannabis_SVM_classifier = SVC(kernel = 'linear', gamma='auto', C=2)\n",
    "cannabis_SVM_classifier.fit(X_cannabis_train, y_cannabis_train.values.ravel())\n",
    "y_cannabis_SVM_pred = cannabis_SVM_classifier.predict(X_cannabis_test)\n",
    "print(\"Classification report - \\n\", classification_report(y_cannabis_test,y_cannabis_SVM_pred))"
   ]
  },
  {
   "cell_type": "code",
   "execution_count": null,
   "id": "5518e71d",
   "metadata": {},
   "outputs": [],
   "source": [
    "#Plotting Confusion matrix for all models\n",
    "fig, ax =plt.subplots(2,2,figsize=(15,10))\n",
    "\n",
    "fig.suptitle('Cannabis User Confusion Matrix', fontsize=30)\n",
    "\n",
    "cannabis_DT_cm = confusion_matrix(y_cannabis_test, y_cannabis_DT_pred)\n",
    "sns.heatmap(data=cannabis_DT_cm,linewidths=.5, annot=True,square = True,  cmap = 'Blues', fmt='g', ax=ax[0][0])\n",
    "all_sample_title = 'DT Accuracy Score: {0:.4f}'.format(cannabis_DT_classifier.score(X_cannabis_test, y_cannabis_test))\n",
    "ax[0][0].set_title(all_sample_title, size = 15)\n",
    "\n",
    "cannabis_KNN_cm = confusion_matrix(y_cannabis_test, y_cannabis_KNN_pred)\n",
    "sns.heatmap(data=cannabis_KNN_cm,linewidths=.5, annot=True,square = True,  cmap = 'Blues', fmt='g', ax=ax[0][1])\n",
    "all_sample_title = 'KNN Accuracy Score: {0:.4f}'.format(cannabis_KNN_classifier.score(X_cannabis_test, y_cannabis_test))\n",
    "ax[0][1].set_title(all_sample_title, size = 15)\n",
    "\n",
    "cannabis_RF_cm = confusion_matrix(y_cannabis_test, y_cannabis_RF_pred)\n",
    "sns.heatmap(data=cannabis_RF_cm,linewidths=.5, annot=True,square = True,  cmap = 'Blues', fmt='g', ax=ax[1][0])\n",
    "all_sample_title = 'RF Accuracy Score: {0:.4f}'.format(cannabis_RF_classifier.score(X_cannabis_test, y_cannabis_test))\n",
    "ax[1][0].set_title(all_sample_title, size = 15)\n",
    "\n",
    "cannabis_SVM_cm = confusion_matrix(y_cannabis_test, y_cannabis_SVM_pred)\n",
    "sns.heatmap(data=cannabis_SVM_cm,linewidths=.5, annot=True,square = True,  cmap = 'Blues', fmt='g', ax=ax[1][1])\n",
    "all_sample_title = 'SVM Accuracy Score: {0:.4f}'.format(cannabis_SVM_classifier.score(X_cannabis_test, y_cannabis_test))\n",
    "ax[1][1].set_title(all_sample_title, size = 15)\n",
    "\n",
    "\n",
    "\n",
    "for i in range (2):\n",
    "    for j in range (2):\n",
    "        ax[i][j].set_xlabel('Predicted label',fontsize = 15)\n",
    "        ax[i][j].set_ylabel('Actual label',fontsize = 15)\n",
    "\n",
    "fig.subplots_adjust(hspace=0.5)"
   ]
  },
  {
   "cell_type": "code",
   "execution_count": null,
   "id": "a88a53d6",
   "metadata": {},
   "outputs": [],
   "source": [
    "#Plotting ROC Curves for all models\n",
    "\n",
    "fpr1 , tpr1, thresholds1 = roc_curve(y_cannabis_test, y_cannabis_DT_pred)\n",
    "auc_cannabis_DT = round(metrics.roc_auc_score(y_cannabis_test, y_cannabis_DT_pred), 4)\n",
    "fpr2 , tpr2, thresholds2 = roc_curve(y_cannabis_test, y_cannabis_KNN_pred)\n",
    "auc_cannabis_KNN = round(metrics.roc_auc_score(y_cannabis_test, y_cannabis_KNN_pred), 4)\n",
    "fpr3 , tpr3, thresholds3 = roc_curve(y_cannabis_test, y_cannabis_RF_pred)\n",
    "auc_cannabis_RF = round(metrics.roc_auc_score(y_cannabis_test, y_cannabis_RF_pred), 4)\n",
    "fpr4 , tpr4, thresholds4 = roc_curve(y_cannabis_test, y_cannabis_SVM_pred)\n",
    "auc_cannabis_SVM = round(metrics.roc_auc_score(y_cannabis_test, y_cannabis_SVM_pred), 4)\n",
    "\n",
    "\n",
    "plt.plot([0,1],[0,1], 'k--')\n",
    "plt.plot(fpr1, tpr1, label= \"DT, AUC=\"+str(auc_cannabis_DT))\n",
    "plt.plot(fpr2, tpr2, label= \"KNN, AUC=\"+str(auc_cannabis_KNN))\n",
    "plt.plot(fpr3, tpr3, label= \"RF, AUC=\"+str(auc_cannabis_RF))\n",
    "plt.plot(fpr4, tpr4, label= \"SVM, AUC=\"+str(auc_cannabis_SVM))\n",
    "\n",
    "plt.legend()\n",
    "plt.xlabel(\"False Positive Rate\")\n",
    "plt.ylabel(\"True Positive Rate\")\n",
    "plt.title('Receiver Operating Characteristic')\n",
    "plt.show()"
   ]
  },
  {
   "cell_type": "markdown",
   "id": "a0c51f1b",
   "metadata": {},
   "source": [
    "# Creating 4 Models for Ecstasy User Classification"
   ]
  },
  {
   "cell_type": "code",
   "execution_count": null,
   "id": "0aec83f9",
   "metadata": {},
   "outputs": [],
   "source": [
    "#Load Data in X and Y Dataframes\n",
    "X_ecstasy = feature_dataset\n",
    "Y_ecstasy = drug_data[[\"Ecstasy\"]]\n",
    "\n",
    "#Perform Train-Test Split\n",
    "X_ecstasy_train, X_ecstasy_test, y_ecstasy_train, y_ecstasy_test = train_test_split(X_ecstasy , Y_ecstasy, test_size = 0.33, random_state = 42)\n",
    "print(\"Training split input- \", X_ecstasy_train.shape)\n",
    "print(\"Testing split input- \", X_ecstasy_test.shape)"
   ]
  },
  {
   "cell_type": "code",
   "execution_count": null,
   "id": "f1ad0885",
   "metadata": {},
   "outputs": [],
   "source": [
    "#Build Decision Tree Model\n",
    "ecstasy_DT_classifier=DecisionTreeClassifier()\n",
    "ecstasy_DT_classifier.fit(X_ecstasy_train,y_ecstasy_train)\n",
    "\n",
    "# Predicting the values of test data\n",
    "y_ecstasy_DT_pred = ecstasy_DT_classifier.predict(X_ecstasy_test)\n",
    "print(\"Classification report - \\n\", classification_report(y_ecstasy_test,y_ecstasy_DT_pred))"
   ]
  },
  {
   "cell_type": "code",
   "execution_count": null,
   "id": "b7abe9d2",
   "metadata": {},
   "outputs": [],
   "source": [
    "#Visualizing Tree \n",
    "plt.figure(figsize = (250,250))\n",
    "dec_tree = plot_tree(decision_tree=ecstasy_DT_classifier, feature_names = X_ecstasy.columns, \n",
    "                     class_names =[\"0\", \"1\"] , filled = True , precision = 4, rounded = True)\n",
    "plt.savefig(\"Decision Tree Ecstasy.png\")"
   ]
  },
  {
   "cell_type": "code",
   "execution_count": null,
   "id": "45afc22c",
   "metadata": {},
   "outputs": [],
   "source": [
    "#Build KNN Model\n",
    "\n",
    "ecstasy_KNN_classifier = KNeighborsClassifier()\n",
    "ecstasy_KNN_classifier.fit(X_ecstasy_train, y_ecstasy_train.values.ravel())\n",
    "y_ecstasy_KNN_pred = ecstasy_KNN_classifier.predict(X_ecstasy_test)\n",
    "print(\"Classification report - \\n\", classification_report(y_ecstasy_test,y_ecstasy_KNN_pred))"
   ]
  },
  {
   "cell_type": "code",
   "execution_count": null,
   "id": "61cd2ade",
   "metadata": {},
   "outputs": [],
   "source": [
    "#Build RF Model\n",
    "\n",
    "ecstasy_RF_classifier = RandomForestClassifier(n_estimators = 200, criterion = 'entropy')\n",
    "ecstasy_RF_classifier.fit(X_ecstasy_train,y_ecstasy_train.values.ravel())\n",
    "\n",
    "y_ecstasy_RF_pred = ecstasy_RF_classifier.predict(X_ecstasy_test)\n",
    "print(\"Classification report - \\n\", classification_report(y_ecstasy_test,y_ecstasy_RF_pred))"
   ]
  },
  {
   "cell_type": "code",
   "execution_count": null,
   "id": "a7e1e570",
   "metadata": {},
   "outputs": [],
   "source": [
    "#Build SVM Model\n",
    "\n",
    "ecstasy_SVM_classifier = SVC(kernel = 'linear', gamma='auto', C=2)\n",
    "ecstasy_SVM_classifier.fit(X_ecstasy_train, y_ecstasy_train.values.ravel())\n",
    "y_ecstasy_SVM_pred = ecstasy_SVM_classifier.predict(X_ecstasy_test)\n",
    "print(\"Classification report - \\n\", classification_report(y_ecstasy_test,y_ecstasy_SVM_pred))"
   ]
  },
  {
   "cell_type": "code",
   "execution_count": null,
   "id": "91909844",
   "metadata": {},
   "outputs": [],
   "source": [
    "#Plotting Confusion matrix for all models\n",
    "fig, ax =plt.subplots(2,2,figsize=(15,10))\n",
    "\n",
    "fig.suptitle('Ecstasy User Confusion Matrix', fontsize=30)\n",
    "\n",
    "ecstasy_DT_cm = confusion_matrix(y_ecstasy_test, y_ecstasy_DT_pred)\n",
    "sns.heatmap(data=ecstasy_DT_cm,linewidths=.5, annot=True,square = True,  cmap = 'Blues', fmt='g', ax=ax[0][0])\n",
    "all_sample_title = 'DT Accuracy Score: {0:.4f}'.format(ecstasy_DT_classifier.score(X_ecstasy_test, y_ecstasy_test))\n",
    "ax[0][0].set_title(all_sample_title, size = 15)\n",
    "\n",
    "ecstasy_KNN_cm = confusion_matrix(y_ecstasy_test, y_ecstasy_KNN_pred)\n",
    "sns.heatmap(data=ecstasy_KNN_cm,linewidths=.5, annot=True,square = True,  cmap = 'Blues', fmt='g', ax=ax[0][1])\n",
    "all_sample_title = 'KNN Accuracy Score: {0:.4f}'.format(ecstasy_KNN_classifier.score(X_ecstasy_test, y_ecstasy_test))\n",
    "ax[0][1].set_title(all_sample_title, size = 15)\n",
    "\n",
    "ecstasy_RF_cm = confusion_matrix(y_ecstasy_test, y_ecstasy_RF_pred)\n",
    "sns.heatmap(data=ecstasy_RF_cm,linewidths=.5, annot=True,square = True,  cmap = 'Blues', fmt='g', ax=ax[1][0])\n",
    "all_sample_title = 'RF Accuracy Score: {0:.4f}'.format(ecstasy_RF_classifier.score(X_ecstasy_test, y_ecstasy_test))\n",
    "ax[1][0].set_title(all_sample_title, size = 15)\n",
    "\n",
    "ecstasy_SVM_cm = confusion_matrix(y_ecstasy_test, y_ecstasy_SVM_pred)\n",
    "sns.heatmap(data=ecstasy_SVM_cm,linewidths=.5, annot=True,square = True,  cmap = 'Blues', fmt='g', ax=ax[1][1])\n",
    "all_sample_title = 'SVM Accuracy Score: {0:.4f}'.format(ecstasy_SVM_classifier.score(X_ecstasy_test, y_ecstasy_test))\n",
    "ax[1][1].set_title(all_sample_title, size = 15)\n",
    "\n",
    "\n",
    "\n",
    "for i in range (2):\n",
    "    for j in range (2):\n",
    "        ax[i][j].set_xlabel('Predicted label',fontsize = 15)\n",
    "        ax[i][j].set_ylabel('Actual label',fontsize = 15)\n",
    "\n",
    "fig.subplots_adjust(hspace=0.5)"
   ]
  },
  {
   "cell_type": "code",
   "execution_count": null,
   "id": "11200ee9",
   "metadata": {},
   "outputs": [],
   "source": [
    "#Plotting ROC Curves for all models\n",
    "\n",
    "fpr1 , tpr1, thresholds1 = roc_curve(y_ecstasy_test, y_ecstasy_DT_pred)\n",
    "auc_ecstasy_DT = round(metrics.roc_auc_score(y_ecstasy_test, y_ecstasy_DT_pred), 4)\n",
    "fpr2 , tpr2, thresholds2 = roc_curve(y_ecstasy_test, y_ecstasy_KNN_pred)\n",
    "auc_ecstasy_KNN = round(metrics.roc_auc_score(y_ecstasy_test, y_ecstasy_KNN_pred), 4)\n",
    "fpr3 , tpr3, thresholds3 = roc_curve(y_ecstasy_test, y_ecstasy_RF_pred)\n",
    "auc_ecstasy_RF = round(metrics.roc_auc_score(y_ecstasy_test, y_ecstasy_RF_pred), 4)\n",
    "fpr4 , tpr4, thresholds4 = roc_curve(y_ecstasy_test, y_ecstasy_SVM_pred)\n",
    "auc_ecstasy_SVM = round(metrics.roc_auc_score(y_ecstasy_test, y_ecstasy_SVM_pred), 4)\n",
    "\n",
    "plt.plot([0,1],[0,1], 'k--')\n",
    "plt.plot(fpr1, tpr1, label= \"DT, AUC=\"+str(auc_ecstasy_DT))\n",
    "plt.plot(fpr2, tpr2, label= \"KNN, AUC=\"+str(auc_ecstasy_KNN))\n",
    "plt.plot(fpr3, tpr3, label= \"RF, AUC=\"+str(auc_ecstasy_RF))\n",
    "plt.plot(fpr4, tpr4, label= \"SVM, AUC=\"+str(auc_ecstasy_SVM))\n",
    "plt.legend()\n",
    "plt.xlabel(\"False Positive Rate\")\n",
    "plt.ylabel(\"True Positive Rate\")\n",
    "plt.title('Receiver Operating Characteristic')\n",
    "plt.show()"
   ]
  },
  {
   "cell_type": "markdown",
   "id": "a45b2fc9",
   "metadata": {},
   "source": [
    "# Creating 4 Models for Nicotine User Classification"
   ]
  },
  {
   "cell_type": "code",
   "execution_count": null,
   "id": "2b844354",
   "metadata": {},
   "outputs": [],
   "source": [
    "#Load Data in X and Y Dataframes\n",
    "X_nicotine = feature_dataset\n",
    "Y_nicotine = drug_data[[\"Nicotine\"]]\n",
    "\n",
    "#Perform Train-Test Split\n",
    "X_nicotine_train, X_nicotine_test, y_nicotine_train, y_nicotine_test = train_test_split(X_nicotine , Y_nicotine, test_size = 0.33, random_state = 42)\n",
    "print(\"Training split input- \", X_nicotine_train.shape)\n",
    "print(\"Testing split input- \", X_nicotine_test.shape)"
   ]
  },
  {
   "cell_type": "code",
   "execution_count": null,
   "id": "049d87b2",
   "metadata": {},
   "outputs": [],
   "source": [
    "#Build Decision Tree Model\n",
    "nicotine_DT_classifier=DecisionTreeClassifier()\n",
    "nicotine_DT_classifier.fit(X_nicotine_train,y_nicotine_train)\n",
    "\n",
    "# Predicting the values of test data\n",
    "y_nicotine_DT_pred = nicotine_DT_classifier.predict(X_nicotine_test)\n",
    "print(\"Classification report - \\n\", classification_report(y_nicotine_test,y_nicotine_DT_pred))"
   ]
  },
  {
   "cell_type": "code",
   "execution_count": null,
   "id": "d77f95e6",
   "metadata": {
    "scrolled": true
   },
   "outputs": [],
   "source": [
    "#Visualizing Tree\n",
    "plt.figure(figsize = (250,250))\n",
    "dec_tree = plot_tree(decision_tree=nicotine_DT_classifier, feature_names = X_nicotine.columns, \n",
    "                     class_names =[\"0\", \"1\"] , filled = True , precision = 4, rounded = True)\n",
    "plt.savefig(\"Decision Tree Nicotine.png\")"
   ]
  },
  {
   "cell_type": "code",
   "execution_count": null,
   "id": "73989cef",
   "metadata": {},
   "outputs": [],
   "source": [
    "#Build KNN Model\n",
    "\n",
    "nicotine_KNN_classifier = KNeighborsClassifier()\n",
    "nicotine_KNN_classifier.fit(X_nicotine_train, y_nicotine_train.values.ravel())\n",
    "y_nicotine_KNN_pred = nicotine_KNN_classifier.predict(X_nicotine_test)\n",
    "print(\"Classification report - \\n\", classification_report(y_nicotine_test,y_nicotine_KNN_pred))"
   ]
  },
  {
   "cell_type": "code",
   "execution_count": null,
   "id": "58a6b295",
   "metadata": {},
   "outputs": [],
   "source": [
    "#Build RF Model\n",
    "\n",
    "nicotine_RF_classifier = RandomForestClassifier(n_estimators = 200, criterion = 'entropy')\n",
    "nicotine_RF_classifier.fit(X_nicotine_train,y_nicotine_train.values.ravel())\n",
    "\n",
    "y_nicotine_RF_pred = nicotine_RF_classifier.predict(X_nicotine_test)\n",
    "print(\"Classification report - \\n\", classification_report(y_nicotine_test,y_nicotine_RF_pred))"
   ]
  },
  {
   "cell_type": "code",
   "execution_count": null,
   "id": "d555d2d9",
   "metadata": {},
   "outputs": [],
   "source": [
    "#Build SVM Model\n",
    "\n",
    "nicotine_SVM_classifier = SVC(kernel = 'linear', gamma='auto', C=2)\n",
    "nicotine_SVM_classifier.fit(X_nicotine_train, y_nicotine_train.values.ravel())\n",
    "y_nicotine_SVM_pred = nicotine_SVM_classifier.predict(X_nicotine_test)\n",
    "print(\"Classification report - \\n\", classification_report(y_nicotine_test,y_nicotine_SVM_pred))"
   ]
  },
  {
   "cell_type": "code",
   "execution_count": null,
   "id": "6f60aa9d",
   "metadata": {},
   "outputs": [],
   "source": []
  },
  {
   "cell_type": "code",
   "execution_count": null,
   "id": "bfc8f622",
   "metadata": {},
   "outputs": [],
   "source": [
    "#Plotting Confusion matrix for all models\n",
    "fig, ax =plt.subplots(2,2,figsize=(15,10))\n",
    "\n",
    "fig.suptitle('Nicotine User Confusion Matrix', fontsize=30)\n",
    "\n",
    "nicotine_DT_cm = confusion_matrix(y_nicotine_test, y_nicotine_DT_pred)\n",
    "sns.heatmap(data=nicotine_DT_cm,linewidths=.5, annot=True,square = True,  cmap = 'Blues', fmt='g', ax=ax[0][0])\n",
    "all_sample_title = 'DT Accuracy Score: {0:.4f}'.format(nicotine_DT_classifier.score(X_nicotine_test, y_nicotine_test))\n",
    "ax[0][0].set_title(all_sample_title, size = 15)\n",
    "\n",
    "nicotine_KNN_cm = confusion_matrix(y_nicotine_test, y_nicotine_KNN_pred)\n",
    "sns.heatmap(data=nicotine_KNN_cm,linewidths=.5, annot=True,square = True,  cmap = 'Blues', fmt='g', ax=ax[0][1])\n",
    "all_sample_title = 'KNN Accuracy Score: {0:.4f}'.format(nicotine_KNN_classifier.score(X_nicotine_test, y_nicotine_test))\n",
    "ax[0][1].set_title(all_sample_title, size = 15)\n",
    "\n",
    "nicotine_RF_cm = confusion_matrix(y_nicotine_test, y_nicotine_RF_pred)\n",
    "sns.heatmap(data=nicotine_RF_cm,linewidths=.5, annot=True,square = True,  cmap = 'Blues', fmt='g', ax=ax[1][0])\n",
    "all_sample_title = 'RF Accuracy Score: {0:.4f}'.format(nicotine_RF_classifier.score(X_nicotine_test, y_nicotine_test))\n",
    "ax[1][0].set_title(all_sample_title, size = 15)\n",
    "\n",
    "nicotine_SVM_cm = confusion_matrix(y_nicotine_test, y_nicotine_SVM_pred)\n",
    "sns.heatmap(data=nicotine_SVM_cm,linewidths=.5, annot=True,square = True,  cmap = 'Blues', fmt='g', ax=ax[1][1])\n",
    "all_sample_title = 'SVM Accuracy Score: {0:.4f}'.format(nicotine_SVM_classifier.score(X_nicotine_test, y_nicotine_test))\n",
    "ax[1][1].set_title(all_sample_title, size = 15)\n",
    "\n",
    "\n",
    "\n",
    "for i in range (2):\n",
    "    for j in range (2):\n",
    "        ax[i][j].set_xlabel('Predicted label',fontsize = 15)\n",
    "        ax[i][j].set_ylabel('Actual label',fontsize = 15)\n",
    "\n",
    "fig.subplots_adjust(hspace=0.5)"
   ]
  },
  {
   "cell_type": "code",
   "execution_count": null,
   "id": "0c2155db",
   "metadata": {},
   "outputs": [],
   "source": [
    "#Plotting ROC Curves for all models\n",
    "\n",
    "fpr1 , tpr1, thresholds1 = roc_curve(y_nicotine_test, y_nicotine_DT_pred)\n",
    "auc_nicotine_DT = round(metrics.roc_auc_score(y_nicotine_test, y_nicotine_DT_pred), 4)\n",
    "fpr2 , tpr2, thresholds2 = roc_curve(y_nicotine_test, y_nicotine_KNN_pred)\n",
    "auc_nicotine_KNN = round(metrics.roc_auc_score(y_nicotine_test, y_nicotine_KNN_pred), 4)\n",
    "fpr3 , tpr3, thresholds3 = roc_curve(y_nicotine_test, y_nicotine_RF_pred)\n",
    "auc_nicotine_RF = round(metrics.roc_auc_score(y_nicotine_test, y_nicotine_RF_pred), 4)\n",
    "fpr4 , tpr4, thresholds4 = roc_curve(y_nicotine_test, y_nicotine_SVM_pred)\n",
    "auc_nicotine_SVM = round(metrics.roc_auc_score(y_nicotine_test, y_nicotine_SVM_pred), 4)\n",
    "\n",
    "plt.plot([0,1],[0,1], 'k--')\n",
    "plt.plot(fpr1, tpr1, label= \"DT, AUC=\"+str(auc_nicotine_DT))\n",
    "plt.plot(fpr2, tpr2, label= \"KNN, AUC=\"+str(auc_nicotine_KNN))\n",
    "plt.plot(fpr3, tpr3, label= \"RF, AUC=\"+str(auc_nicotine_RF))\n",
    "plt.plot(fpr4, tpr4, label= \"SVM, AUC=\"+str(auc_nicotine_SVM))\n",
    "\n",
    "plt.legend()\n",
    "plt.xlabel(\"False Positive Rate\")\n",
    "plt.ylabel(\"True Positive Rate\")\n",
    "plt.title('Receiver Operating Characteristic')\n",
    "plt.show()"
   ]
  },
  {
   "cell_type": "code",
   "execution_count": null,
   "id": "de7a93d9",
   "metadata": {},
   "outputs": [],
   "source": []
  },
  {
   "cell_type": "code",
   "execution_count": null,
   "id": "cae2ea2c",
   "metadata": {},
   "outputs": [],
   "source": []
  },
  {
   "cell_type": "code",
   "execution_count": null,
   "id": "0217ddc2",
   "metadata": {},
   "outputs": [],
   "source": []
  }
 ],
 "metadata": {
  "kernelspec": {
   "display_name": "Python 3 (ipykernel)",
   "language": "python",
   "name": "python3"
  },
  "language_info": {
   "codemirror_mode": {
    "name": "ipython",
    "version": 3
   },
   "file_extension": ".py",
   "mimetype": "text/x-python",
   "name": "python",
   "nbconvert_exporter": "python",
   "pygments_lexer": "ipython3",
   "version": "3.9.12"
  }
 },
 "nbformat": 4,
 "nbformat_minor": 5
}
